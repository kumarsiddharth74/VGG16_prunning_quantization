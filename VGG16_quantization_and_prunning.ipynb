{
  "nbformat": 4,
  "nbformat_minor": 0,
  "metadata": {
    "colab": {
      "name": "VGG16_quantization_and_prunning.ipynb",
      "provenance": [],
      "collapsed_sections": []
    },
    "kernelspec": {
      "display_name": "Python 3",
      "name": "python3"
    },
    "language_info": {
      "name": "python"
    },
    "accelerator": "GPU"
  },
  "cells": [
    {
      "cell_type": "markdown",
      "metadata": {
        "id": "pC6oRoznB4S3"
      },
      "source": [
        "**AIM:-**\n",
        "\n",
        "1.   **Train a simple vgg16 model to identify Car Or Plane.**\n",
        "2.   **this training will be done without fine tuning.**\n",
        "3.   **perform quantization and prunning on the model to reduce its size.**\n",
        "4.   **perform inference on the quantized model to see if it gives correct prediction.**\n",
        "\n",
        "\n",
        "\n"
      ]
    },
    {
      "cell_type": "code",
      "metadata": {
        "id": "EU1IotVKPj9V",
        "colab": {
          "base_uri": "https://localhost:8080/"
        },
        "outputId": "bdffa6c4-1120-48ad-86de-22cc6683c24c"
      },
      "source": [
        "import tensorflow as tf\n",
        "print(tf.__version__)"
      ],
      "execution_count": 1,
      "outputs": [
        {
          "output_type": "stream",
          "name": "stdout",
          "text": [
            "2.6.0\n"
          ]
        }
      ]
    },
    {
      "cell_type": "code",
      "metadata": {
        "id": "Cc1-fndulnBW",
        "colab": {
          "base_uri": "https://localhost:8080/"
        },
        "outputId": "c302cd88-fe96-4302-c93b-80f556b011f7"
      },
      "source": [
        "! pip install -q tensorflow-model-optimization"
      ],
      "execution_count": 2,
      "outputs": [
        {
          "output_type": "stream",
          "name": "stdout",
          "text": [
            "\u001b[?25l\r\u001b[K     |█▌                              | 10 kB 18.6 MB/s eta 0:00:01\r\u001b[K     |███                             | 20 kB 11.7 MB/s eta 0:00:01\r\u001b[K     |████▋                           | 30 kB 9.3 MB/s eta 0:00:01\r\u001b[K     |██████▏                         | 40 kB 8.4 MB/s eta 0:00:01\r\u001b[K     |███████▊                        | 51 kB 5.4 MB/s eta 0:00:01\r\u001b[K     |█████████▎                      | 61 kB 5.5 MB/s eta 0:00:01\r\u001b[K     |██████████▉                     | 71 kB 5.4 MB/s eta 0:00:01\r\u001b[K     |████████████▍                   | 81 kB 6.1 MB/s eta 0:00:01\r\u001b[K     |██████████████                  | 92 kB 6.1 MB/s eta 0:00:01\r\u001b[K     |███████████████▌                | 102 kB 5.3 MB/s eta 0:00:01\r\u001b[K     |█████████████████               | 112 kB 5.3 MB/s eta 0:00:01\r\u001b[K     |██████████████████▋             | 122 kB 5.3 MB/s eta 0:00:01\r\u001b[K     |████████████████████▏           | 133 kB 5.3 MB/s eta 0:00:01\r\u001b[K     |█████████████████████▊          | 143 kB 5.3 MB/s eta 0:00:01\r\u001b[K     |███████████████████████▎        | 153 kB 5.3 MB/s eta 0:00:01\r\u001b[K     |████████████████████████▉       | 163 kB 5.3 MB/s eta 0:00:01\r\u001b[K     |██████████████████████████▍     | 174 kB 5.3 MB/s eta 0:00:01\r\u001b[K     |████████████████████████████    | 184 kB 5.3 MB/s eta 0:00:01\r\u001b[K     |█████████████████████████████▌  | 194 kB 5.3 MB/s eta 0:00:01\r\u001b[K     |███████████████████████████████ | 204 kB 5.3 MB/s eta 0:00:01\r\u001b[K     |████████████████████████████████| 211 kB 5.3 MB/s \n",
            "\u001b[?25h"
          ]
        }
      ]
    },
    {
      "cell_type": "code",
      "metadata": {
        "id": "aOy2ZHZzTkhR"
      },
      "source": [
        "import tensorflow_model_optimization as tfmot"
      ],
      "execution_count": 3,
      "outputs": []
    },
    {
      "cell_type": "code",
      "metadata": {
        "id": "dD-35ktplPNO"
      },
      "source": [
        "from keras.layers import Input, Lambda, Dense, Flatten,InputLayer,Dropout\n",
        "from keras.models import Model\n",
        "from keras.applications.vgg16 import VGG16\n",
        "from keras.applications.vgg16 import preprocess_input\n",
        "import keras\n",
        "from keras.preprocessing import image\n",
        "from keras.preprocessing.image import ImageDataGenerator\n",
        "from keras.models import Sequential\n",
        "import numpy as np\n",
        "from glob import glob\n",
        "import matplotlib.pyplot as plt\n",
        "from PIL import Image\n",
        "from keras.callbacks import EarlyStopping\n",
        "from keras import optimizers\n",
        "import pandas as pd\n",
        "import math\n",
        "from keras.models import model_from_json\n"
      ],
      "execution_count": 4,
      "outputs": []
    },
    {
      "cell_type": "code",
      "metadata": {
        "colab": {
          "base_uri": "https://localhost:8080/"
        },
        "id": "6s_ZYNj9lbia",
        "outputId": "9201f5dd-8d15-46bd-e60b-8d8438fd068c"
      },
      "source": [
        "\n",
        "print(keras.__version__)"
      ],
      "execution_count": 5,
      "outputs": [
        {
          "output_type": "stream",
          "name": "stdout",
          "text": [
            "2.6.0\n"
          ]
        }
      ]
    },
    {
      "cell_type": "markdown",
      "metadata": {
        "id": "T4Cn0vPkGb1v"
      },
      "source": [
        "**mount google drive on collab**"
      ]
    },
    {
      "cell_type": "code",
      "metadata": {
        "id": "brsxmnKtTiXW"
      },
      "source": [
        ""
      ],
      "execution_count": 5,
      "outputs": []
    },
    {
      "cell_type": "code",
      "metadata": {
        "colab": {
          "base_uri": "https://localhost:8080/"
        },
        "id": "h797hUg_h3KX",
        "outputId": "e7711e0e-de0c-4b78-8249-69a5a36229bd"
      },
      "source": [
        "%cd ..\n",
        "from google.colab import drive\n",
        "drive.mount('/content/gdrive')"
      ],
      "execution_count": 6,
      "outputs": [
        {
          "output_type": "stream",
          "name": "stdout",
          "text": [
            "/\n",
            "Mounted at /content/gdrive\n"
          ]
        }
      ]
    },
    {
      "cell_type": "code",
      "metadata": {
        "colab": {
          "base_uri": "https://localhost:8080/"
        },
        "id": "fBiCmIRNrqUC",
        "outputId": "6d6cc959-1ce3-4325-c6f1-ebb011169e41"
      },
      "source": [
        "%cd /content/"
      ],
      "execution_count": 7,
      "outputs": [
        {
          "output_type": "stream",
          "name": "stdout",
          "text": [
            "/content\n"
          ]
        }
      ]
    },
    {
      "cell_type": "markdown",
      "metadata": {
        "id": "KnEB6iBEGqfr"
      },
      "source": [
        "**unzip the folder which contains training data**"
      ]
    },
    {
      "cell_type": "markdown",
      "metadata": {
        "id": "utp5xAgYJ9hN"
      },
      "source": [
        "**the folder structure should be like below  for train data,test data and validation data. In this example i have kept data in the jpeg format**"
      ]
    },
    {
      "cell_type": "markdown",
      "metadata": {
        "id": "1YyVYXu5JoG_"
      },
      "source": [
        "![Capture.PNG](data:image/png;base64,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)"
      ]
    },
    {
      "cell_type": "code",
      "metadata": {
        "colab": {
          "base_uri": "https://localhost:8080/"
        },
        "id": "4LTTprKwg-xp",
        "outputId": "44f6eee8-3c01-45a9-8db5-ce6937911517"
      },
      "source": [
        "!unzip gdrive/My\\ Drive/vgg16_dataset/dataset3a.zip"
      ],
      "execution_count": 8,
      "outputs": [
        {
          "output_type": "stream",
          "name": "stdout",
          "text": [
            "Archive:  gdrive/My Drive/vgg16_dataset/dataset3a.zip\n",
            "   creating: train/plane/\n",
            "  inflating: train/plane/PLANE1.jpg  \n",
            "  inflating: train/plane/PLANE10.jpg  \n",
            "  inflating: train/plane/PLANE100.jpg  \n",
            "  inflating: train/plane/PLANE103.jpg  \n",
            "  inflating: train/plane/PLANE106.jpg  \n",
            "  inflating: train/plane/PLANE107.jpg  \n",
            "  inflating: train/plane/PLANE108.jpg  \n",
            "  inflating: train/plane/PLANE109.jpg  \n",
            "  inflating: train/plane/PLANE11.jpg  \n",
            "  inflating: train/plane/PLANE110.jpg  \n",
            "  inflating: train/plane/PLANE1100.jpg  \n",
            "  inflating: train/plane/PLANE1101.jpg  \n",
            "  inflating: train/plane/PLANE1102.jpg  \n",
            "  inflating: train/plane/PLANE1103.jpg  \n",
            "  inflating: train/plane/PLANE1104.jpg  \n",
            "  inflating: train/plane/PLANE1105.jpg  \n",
            "  inflating: train/plane/PLANE1106.jpg  \n",
            "  inflating: train/plane/PLANE1107.jpg  \n",
            "  inflating: train/plane/PLANE1108.jpg  \n",
            "  inflating: train/plane/PLANE1109.jpg  \n",
            "  inflating: train/plane/PLANE111.jpg  \n",
            "  inflating: train/plane/PLANE1110.jpg  \n",
            "  inflating: train/plane/PLANE1111.jpg  \n",
            "  inflating: train/plane/PLANE1112.jpg  \n",
            "  inflating: train/plane/PLANE1113.jpg  \n",
            "  inflating: train/plane/PLANE1114.jpg  \n",
            "  inflating: train/plane/PLANE1115.jpg  \n",
            "  inflating: train/plane/PLANE1116.jpg  \n",
            "  inflating: train/plane/PLANE1117.jpg  \n",
            "  inflating: train/plane/PLANE1118.jpg  \n",
            "  inflating: train/plane/PLANE1119.jpg  \n",
            "  inflating: train/plane/PLANE112.jpg  \n",
            "  inflating: train/plane/PLANE1120.jpg  \n",
            "  inflating: train/plane/PLANE1121.jpg  \n",
            "  inflating: train/plane/PLANE1122.jpg  \n",
            "  inflating: train/plane/PLANE1123.jpg  \n",
            "  inflating: train/plane/PLANE1124.jpg  \n",
            "  inflating: train/plane/PLANE1125.jpg  \n",
            "  inflating: train/plane/PLANE1126.jpg  \n",
            "  inflating: train/plane/PLANE1127.jpg  \n",
            "  inflating: train/plane/PLANE1128.jpg  \n",
            "  inflating: train/plane/PLANE1129.jpg  \n",
            "  inflating: train/plane/PLANE113.jpg  \n",
            "  inflating: train/plane/PLANE1130.jpg  \n",
            "  inflating: train/plane/PLANE1131.jpg  \n",
            "  inflating: train/plane/PLANE1132.jpg  \n",
            "  inflating: train/plane/PLANE1133.jpg  \n",
            "  inflating: train/plane/PLANE1134.jpg  \n",
            "  inflating: train/plane/PLANE1135.jpg  \n",
            "  inflating: train/plane/PLANE1136.jpg  \n",
            "  inflating: train/plane/PLANE1137.jpg  \n",
            "  inflating: train/plane/PLANE1138.jpg  \n",
            "  inflating: train/plane/PLANE1139.jpg  \n",
            "  inflating: train/plane/PLANE114.jpg  \n",
            "  inflating: train/plane/PLANE1140.jpg  \n",
            "  inflating: train/plane/PLANE1141.jpg  \n",
            "  inflating: train/plane/PLANE1142.jpg  \n",
            "  inflating: train/plane/PLANE1143.jpg  \n",
            "  inflating: train/plane/PLANE1144.jpg  \n",
            "  inflating: train/plane/PLANE1145.jpg  \n",
            "  inflating: train/plane/PLANE1146.jpg  \n",
            "  inflating: train/plane/PLANE1147.jpg  \n",
            "  inflating: train/plane/PLANE1148.jpg  \n",
            "  inflating: train/plane/PLANE1149.jpg  \n",
            "  inflating: train/plane/PLANE115.jpg  \n",
            "  inflating: train/plane/PLANE1150.jpg  \n",
            "  inflating: train/plane/PLANE1151.jpg  \n",
            "  inflating: train/plane/PLANE1152.jpg  \n",
            "  inflating: train/plane/PLANE1153.jpg  \n",
            "  inflating: train/plane/PLANE1154.jpg  \n",
            "  inflating: train/plane/PLANE1155.jpg  \n",
            "  inflating: train/plane/PLANE1156.jpg  \n",
            "  inflating: train/plane/PLANE1157.jpg  \n",
            "  inflating: train/plane/PLANE1158.jpg  \n",
            "  inflating: train/plane/PLANE1159.jpg  \n",
            "  inflating: train/plane/PLANE116.jpg  \n",
            "  inflating: train/plane/PLANE1160.jpg  \n",
            "  inflating: train/plane/PLANE1161.jpg  \n",
            "  inflating: train/plane/PLANE1162.jpg  \n",
            "  inflating: train/plane/PLANE1163.jpg  \n",
            "  inflating: train/plane/PLANE1164.jpg  \n",
            "  inflating: train/plane/PLANE1165.jpg  \n",
            "  inflating: train/plane/PLANE1166.jpg  \n",
            "  inflating: train/plane/PLANE1167.jpg  \n",
            "  inflating: train/plane/PLANE1168.jpg  \n",
            "  inflating: train/plane/PLANE1169.jpg  \n",
            "  inflating: train/plane/PLANE117.jpg  \n",
            "  inflating: train/plane/PLANE1170.jpg  \n",
            "  inflating: train/plane/PLANE1171.jpg  \n",
            "  inflating: train/plane/PLANE1172.jpg  \n",
            "  inflating: train/plane/PLANE1173.jpg  \n",
            "  inflating: train/plane/PLANE1174.jpg  \n",
            "  inflating: train/plane/PLANE1175.jpg  \n",
            "  inflating: train/plane/PLANE1176.jpg  \n",
            "  inflating: train/plane/PLANE1177.jpg  \n",
            "  inflating: train/plane/PLANE1178.jpg  \n",
            "  inflating: train/plane/PLANE1179.jpg  \n",
            "  inflating: train/plane/PLANE118.jpg  \n",
            "  inflating: train/plane/PLANE1180.jpg  \n",
            "  inflating: train/plane/PLANE1181.jpg  \n",
            "  inflating: train/plane/PLANE1182.jpg  \n",
            "  inflating: train/plane/PLANE1183.jpg  \n",
            "  inflating: train/plane/PLANE1184.jpg  \n",
            "  inflating: train/plane/PLANE1185.jpg  \n",
            "  inflating: train/plane/PLANE1186.jpg  \n",
            "  inflating: train/plane/PLANE1187.jpg  \n",
            "  inflating: train/plane/PLANE1188.jpg  \n",
            "  inflating: train/plane/PLANE1189.jpg  \n",
            "  inflating: train/plane/PLANE119.jpg  \n",
            "  inflating: train/plane/PLANE1190.jpg  \n",
            "  inflating: train/plane/PLANE1191.jpg  \n",
            "  inflating: train/plane/PLANE1192.jpg  \n",
            "  inflating: train/plane/PLANE1193.jpg  \n",
            "  inflating: train/plane/PLANE1194.jpg  \n",
            "  inflating: train/plane/PLANE1195.jpg  \n",
            "  inflating: train/plane/PLANE1196.jpg  \n",
            "  inflating: train/plane/PLANE1197.jpg  \n",
            "  inflating: train/plane/PLANE1198.jpg  \n",
            "  inflating: train/plane/PLANE1199.jpg  \n",
            "  inflating: train/plane/PLANE12.jpg  \n",
            "  inflating: train/plane/PLANE120.jpg  \n",
            "  inflating: train/plane/PLANE1200.jpg  \n",
            "  inflating: train/plane/PLANE1201.jpg  \n",
            "  inflating: train/plane/PLANE1202.jpg  \n",
            "  inflating: train/plane/PLANE1203.jpg  \n",
            "  inflating: train/plane/PLANE1204.jpg  \n",
            "  inflating: train/plane/PLANE1205.jpg  \n",
            "  inflating: train/plane/PLANE1206.jpg  \n",
            "  inflating: train/plane/PLANE1207.jpg  \n",
            "  inflating: train/plane/PLANE1208.jpg  \n",
            "  inflating: train/plane/PLANE1209.jpg  \n",
            "  inflating: train/plane/PLANE121.jpg  \n",
            "  inflating: train/plane/PLANE1210.jpg  \n",
            "  inflating: train/plane/PLANE1211.jpg  \n",
            "  inflating: train/plane/PLANE1212.jpg  \n",
            "  inflating: train/plane/PLANE1213.jpg  \n",
            "  inflating: train/plane/PLANE1214.jpg  \n",
            "  inflating: train/plane/PLANE1215.jpg  \n",
            "  inflating: train/plane/PLANE1216.jpg  \n",
            "  inflating: train/plane/PLANE1217.jpg  \n",
            "  inflating: train/plane/PLANE1218.jpg  \n",
            "  inflating: train/plane/PLANE1219.jpg  \n",
            "  inflating: train/plane/PLANE122.jpg  \n",
            "  inflating: train/plane/PLANE1220.jpg  \n",
            "  inflating: train/plane/PLANE1221.jpg  \n",
            "  inflating: train/plane/PLANE1222.jpg  \n",
            "  inflating: train/plane/PLANE1223.jpg  \n",
            "  inflating: train/plane/PLANE1224.jpg  \n",
            "  inflating: train/plane/PLANE1225.jpg  \n",
            "  inflating: train/plane/PLANE1226.jpg  \n",
            "  inflating: train/plane/PLANE1227.jpg  \n",
            "  inflating: train/plane/PLANE1228.jpg  \n",
            "  inflating: train/plane/PLANE1229.jpg  \n",
            "  inflating: train/plane/PLANE123.jpg  \n",
            "  inflating: train/plane/PLANE1230.jpg  \n",
            "  inflating: train/plane/PLANE1231.jpg  \n",
            "  inflating: train/plane/PLANE1232.jpg  \n",
            "  inflating: train/plane/PLANE1233.jpg  \n",
            "  inflating: train/plane/PLANE1234.jpg  \n",
            "  inflating: train/plane/PLANE1235.jpg  \n",
            "  inflating: train/plane/PLANE1236.jpg  \n",
            "  inflating: train/plane/PLANE1237.jpg  \n",
            "  inflating: train/plane/PLANE1238.jpg  \n",
            "  inflating: train/plane/PLANE1239.jpg  \n",
            "  inflating: train/plane/PLANE124.jpg  \n",
            "  inflating: train/plane/PLANE1240.jpg  \n",
            "  inflating: train/plane/PLANE1241.jpg  \n",
            "  inflating: train/plane/PLANE1242.jpg  \n",
            "  inflating: train/plane/PLANE1243.jpg  \n",
            "  inflating: train/plane/PLANE1244.jpg  \n",
            "  inflating: train/plane/PLANE1245.jpg  \n",
            "  inflating: train/plane/PLANE1246.jpg  \n",
            "  inflating: train/plane/PLANE1247.jpg  \n",
            "  inflating: train/plane/PLANE1248.jpg  \n",
            "  inflating: train/plane/PLANE1249.jpg  \n",
            "  inflating: train/plane/PLANE125.jpg  \n",
            "  inflating: train/plane/PLANE1250.jpg  \n",
            "  inflating: train/plane/PLANE1251.jpg  \n",
            "  inflating: train/plane/PLANE1252.jpg  \n",
            "  inflating: train/plane/PLANE1253.jpg  \n",
            "  inflating: train/plane/PLANE1254.jpg  \n",
            "  inflating: train/plane/PLANE1255.jpg  \n",
            "  inflating: train/plane/PLANE1256.jpg  \n",
            "  inflating: train/plane/PLANE1257.jpg  \n",
            "  inflating: train/plane/PLANE1258.jpg  \n",
            "  inflating: train/plane/PLANE1259.jpg  \n",
            "  inflating: train/plane/PLANE126.jpg  \n",
            "  inflating: train/plane/PLANE1260.jpg  \n",
            "  inflating: train/plane/PLANE1261.jpg  \n",
            "  inflating: train/plane/PLANE1262.jpg  \n",
            "  inflating: train/plane/PLANE1263.jpg  \n",
            "  inflating: train/plane/PLANE1264.jpg  \n",
            "  inflating: train/plane/PLANE1265.jpg  \n",
            "  inflating: train/plane/PLANE1266.jpg  \n",
            "  inflating: train/plane/PLANE1267.jpg  \n",
            "  inflating: train/plane/PLANE1268.jpg  \n",
            "  inflating: train/plane/PLANE1269.jpg  \n",
            "  inflating: train/plane/PLANE127.jpg  \n",
            "  inflating: train/plane/PLANE1270.jpg  \n",
            "  inflating: train/plane/PLANE1271.jpg  \n",
            "  inflating: train/plane/PLANE1272.jpg  \n",
            "  inflating: train/plane/PLANE1273.jpg  \n",
            "  inflating: train/plane/PLANE1274.jpg  \n",
            "  inflating: train/plane/PLANE1275.jpg  \n",
            "  inflating: train/plane/PLANE1276.jpg  \n",
            "  inflating: train/plane/PLANE1277.jpg  \n",
            "  inflating: train/plane/PLANE1278.jpg  \n",
            "  inflating: train/plane/PLANE1279.jpg  \n",
            "  inflating: train/plane/PLANE128.jpg  \n",
            "  inflating: train/plane/PLANE1280.jpg  \n",
            "  inflating: train/plane/PLANE1281.jpg  \n",
            "  inflating: train/plane/PLANE1282.jpg  \n",
            "  inflating: train/plane/PLANE1283.jpg  \n",
            "  inflating: train/plane/PLANE1284.jpg  \n",
            "  inflating: train/plane/PLANE1285.jpg  \n",
            "  inflating: train/plane/PLANE1286.jpg  \n",
            "  inflating: train/plane/PLANE1287.jpg  \n",
            "  inflating: train/plane/PLANE1288.jpg  \n",
            "  inflating: train/plane/PLANE1289.jpg  \n",
            "  inflating: train/plane/PLANE129.jpg  \n",
            "  inflating: train/plane/PLANE1290.jpg  \n",
            "  inflating: train/plane/PLANE1291.jpg  \n",
            "  inflating: train/plane/PLANE1292.jpg  \n",
            "  inflating: train/plane/PLANE1293.jpg  \n",
            "  inflating: train/plane/PLANE1294.jpg  \n",
            "  inflating: train/plane/PLANE1295.jpg  \n",
            "  inflating: train/plane/PLANE1296.jpg  \n",
            "  inflating: train/plane/PLANE1297.jpg  \n",
            "  inflating: train/plane/PLANE1298.jpg  \n",
            "  inflating: train/plane/PLANE1299.jpg  \n",
            "  inflating: train/plane/PLANE13.jpg  \n",
            "  inflating: train/plane/PLANE130.jpg  \n",
            "  inflating: train/plane/PLANE1300.jpg  \n",
            "  inflating: train/plane/PLANE1301.jpg  \n",
            "  inflating: train/plane/PLANE1302.jpg  \n",
            "  inflating: train/plane/PLANE1303.jpg  \n",
            "  inflating: train/plane/PLANE1304.jpg  \n",
            "  inflating: train/plane/PLANE1305.jpg  \n",
            "  inflating: train/plane/PLANE1306.jpg  \n",
            "  inflating: train/plane/PLANE1307.jpg  \n",
            "  inflating: train/plane/PLANE1308.jpg  \n",
            "  inflating: train/plane/PLANE1309.jpg  \n",
            "  inflating: train/plane/PLANE131.jpg  \n",
            "  inflating: train/plane/PLANE1310.jpg  \n",
            "  inflating: train/plane/PLANE1311.jpg  \n",
            "  inflating: train/plane/PLANE1312.jpg  \n",
            "  inflating: train/plane/PLANE1313.jpg  \n",
            "  inflating: train/plane/PLANE1314.jpg  \n",
            "  inflating: train/plane/PLANE1315.jpg  \n",
            "  inflating: train/plane/PLANE1316.jpg  \n",
            "  inflating: train/plane/PLANE1317.jpg  \n",
            "  inflating: train/plane/PLANE1318.jpg  \n",
            "  inflating: train/plane/PLANE1319.jpg  \n",
            "  inflating: train/plane/PLANE132.jpg  \n",
            "  inflating: train/plane/PLANE1320.jpg  \n",
            "  inflating: train/plane/PLANE1321.jpg  \n",
            "  inflating: train/plane/PLANE1322.jpg  \n",
            "  inflating: train/plane/PLANE1323.jpg  \n",
            "  inflating: train/plane/PLANE1324.jpg  \n",
            "  inflating: train/plane/PLANE1325.jpg  \n",
            "  inflating: train/plane/PLANE1326.jpg  \n",
            "  inflating: train/plane/PLANE1327.jpg  \n",
            "  inflating: train/plane/PLANE1328.jpg  \n",
            "  inflating: train/plane/PLANE1329.jpg  \n",
            "  inflating: train/plane/PLANE133.jpg  \n",
            "  inflating: train/plane/PLANE1330.jpg  \n",
            "  inflating: train/plane/PLANE1331.jpg  \n",
            "  inflating: train/plane/PLANE1332.jpg  \n",
            "  inflating: train/plane/PLANE1333.jpg  \n",
            "  inflating: train/plane/PLANE1334.jpg  \n",
            "  inflating: train/plane/PLANE1335.jpg  \n",
            "  inflating: train/plane/PLANE1336.jpg  \n",
            "  inflating: train/plane/PLANE1337.jpg  \n",
            "  inflating: train/plane/PLANE1338.jpg  \n",
            "  inflating: train/plane/PLANE1339.jpg  \n",
            "  inflating: train/plane/PLANE134.jpg  \n",
            "  inflating: train/plane/PLANE1340.jpg  \n",
            "  inflating: train/plane/PLANE1341.jpg  \n",
            "  inflating: train/plane/PLANE1342.jpg  \n",
            "  inflating: train/plane/PLANE1343.jpg  \n",
            "  inflating: train/plane/PLANE1344.jpg  \n",
            "  inflating: train/plane/PLANE1345.jpg  \n",
            "  inflating: train/plane/PLANE1346.jpg  \n",
            "  inflating: train/plane/PLANE1347.jpg  \n",
            "  inflating: train/plane/PLANE1348.jpg  \n",
            "  inflating: train/plane/PLANE1349.jpg  \n",
            "  inflating: train/plane/PLANE135.jpg  \n",
            "  inflating: train/plane/PLANE1350.jpg  \n",
            "  inflating: train/plane/PLANE1351.jpg  \n",
            "  inflating: train/plane/PLANE1352.jpg  \n",
            "  inflating: train/plane/PLANE1353.jpg  \n",
            "  inflating: train/plane/PLANE1354.jpg  \n",
            "  inflating: train/plane/PLANE1355.jpg  \n",
            "  inflating: train/plane/PLANE1356.jpg  \n",
            "  inflating: train/plane/PLANE1357.jpg  \n",
            "  inflating: train/plane/PLANE1358.jpg  \n",
            "  inflating: train/plane/PLANE1359.jpg  \n",
            "  inflating: train/plane/PLANE136.jpg  \n",
            "  inflating: train/plane/PLANE1360.jpg  \n",
            "  inflating: train/plane/PLANE1361.jpg  \n",
            "  inflating: train/plane/PLANE1362.jpg  \n",
            "  inflating: train/plane/PLANE1363.jpg  \n",
            "  inflating: train/plane/PLANE1364.jpg  \n",
            "  inflating: train/plane/PLANE1365.jpg  \n",
            "  inflating: train/plane/PLANE1366.jpg  \n",
            "  inflating: train/plane/PLANE1367.jpg  \n",
            "  inflating: train/plane/PLANE1368.jpg  \n",
            "  inflating: train/plane/PLANE1369.jpg  \n",
            "  inflating: train/plane/PLANE137.jpg  \n",
            "  inflating: train/plane/PLANE1370.jpg  \n",
            "  inflating: train/plane/PLANE1371.jpg  \n",
            "  inflating: train/plane/PLANE1372.jpg  \n",
            "  inflating: train/plane/PLANE1373.jpg  \n",
            "  inflating: train/plane/PLANE1374.jpg  \n",
            "  inflating: train/plane/PLANE1375.jpg  \n",
            "  inflating: train/plane/PLANE1376.jpg  \n",
            "  inflating: train/plane/PLANE1377.jpg  \n",
            "  inflating: train/plane/PLANE138.jpg  \n",
            "  inflating: train/plane/PLANE139.jpg  \n",
            "  inflating: train/plane/PLANE14.jpg  \n",
            "  inflating: train/plane/PLANE140.jpg  \n",
            "  inflating: train/plane/PLANE141.jpg  \n",
            "  inflating: train/plane/PLANE142.jpg  \n",
            "  inflating: train/plane/PLANE143.jpg  \n",
            "  inflating: train/plane/PLANE144.jpg  \n",
            "  inflating: train/plane/PLANE145.jpg  \n",
            "  inflating: train/plane/PLANE146.jpg  \n",
            "  inflating: train/plane/PLANE147.jpg  \n",
            "  inflating: train/plane/PLANE148.jpg  \n",
            "  inflating: train/plane/PLANE149.jpg  \n",
            "  inflating: train/plane/PLANE15.jpg  \n",
            "  inflating: train/plane/PLANE150.jpg  \n",
            "  inflating: train/plane/PLANE151.jpg  \n",
            "  inflating: train/plane/PLANE152.jpg  \n",
            "  inflating: train/plane/PLANE153.jpg  \n",
            "  inflating: train/plane/PLANE154.jpg  \n",
            "  inflating: train/plane/PLANE155.jpg  \n",
            "  inflating: train/plane/PLANE156.jpg  \n",
            "  inflating: train/plane/PLANE157.jpg  \n",
            "  inflating: train/plane/PLANE158.jpg  \n",
            "  inflating: train/plane/PLANE159.jpg  \n",
            "  inflating: train/plane/PLANE16.jpg  \n",
            "  inflating: train/plane/PLANE160.jpg  \n",
            "  inflating: train/plane/PLANE161.jpg  \n",
            "  inflating: train/plane/PLANE162.jpg  \n",
            "  inflating: train/plane/PLANE163.jpg  \n",
            "  inflating: train/plane/PLANE164.jpg  \n",
            "  inflating: train/plane/PLANE165.jpg  \n",
            "  inflating: train/plane/PLANE166.jpg  \n",
            "  inflating: train/plane/PLANE167.jpg  \n",
            "  inflating: train/plane/PLANE168.jpg  \n",
            "  inflating: train/plane/PLANE169.jpg  \n",
            "  inflating: train/plane/PLANE17.jpg  \n",
            "  inflating: train/plane/PLANE170.jpg  \n",
            "  inflating: train/plane/PLANE171.jpg  \n",
            "  inflating: train/plane/PLANE172.jpg  \n",
            "  inflating: train/plane/PLANE173.jpg  \n",
            "  inflating: train/plane/PLANE174.jpg  \n",
            "  inflating: train/plane/PLANE175.jpg  \n",
            "  inflating: train/plane/PLANE176.jpg  \n",
            "  inflating: train/plane/PLANE177.jpg  \n",
            "  inflating: train/plane/PLANE178.jpg  \n",
            "  inflating: train/plane/PLANE179.jpg  \n",
            "  inflating: train/plane/PLANE18.jpg  \n",
            "  inflating: train/plane/PLANE180.jpg  \n",
            "  inflating: train/plane/PLANE181.jpg  \n",
            "  inflating: train/plane/PLANE182.jpg  \n",
            "  inflating: train/plane/PLANE183.jpg  \n",
            "  inflating: train/plane/PLANE184.jpg  \n",
            "  inflating: train/plane/PLANE185.jpg  \n",
            "  inflating: train/plane/PLANE186.jpg  \n",
            "  inflating: train/plane/PLANE187.jpg  \n",
            "  inflating: train/plane/PLANE188.jpg  \n",
            "  inflating: train/plane/PLANE189.jpg  \n",
            "  inflating: train/plane/PLANE19.jpg  \n",
            "  inflating: train/plane/PLANE190.jpg  \n",
            "  inflating: train/plane/PLANE191.jpg  \n",
            "  inflating: train/plane/PLANE192.jpg  \n",
            "  inflating: train/plane/PLANE193.jpg  \n",
            "  inflating: train/plane/PLANE194.jpg  \n",
            "  inflating: train/plane/PLANE195.jpg  \n",
            "  inflating: train/plane/PLANE196.jpg  \n",
            "  inflating: train/plane/PLANE197.jpg  \n",
            "  inflating: train/plane/PLANE198.jpg  \n",
            "  inflating: train/plane/PLANE199.jpg  \n",
            "  inflating: train/plane/PLANE2.jpg  \n",
            "  inflating: train/plane/PLANE201.jpg  \n",
            "  inflating: train/plane/PLANE206.jpg  \n",
            "  inflating: train/plane/PLANE208.jpg  \n",
            "  inflating: train/plane/PLANE209.jpg  \n",
            "  inflating: train/plane/PLANE21.jpg  \n",
            "  inflating: train/plane/PLANE210.jpg  \n",
            "  inflating: train/plane/PLANE211.jpg  \n",
            "  inflating: train/plane/PLANE212.jpg  \n",
            "  inflating: train/plane/PLANE213.jpg  \n",
            "  inflating: train/plane/PLANE214.jpg  \n",
            "  inflating: train/plane/PLANE215.jpg  \n",
            "  inflating: train/plane/PLANE217.jpg  \n",
            "  inflating: train/plane/PLANE219.jpg  \n",
            "  inflating: train/plane/PLANE220.jpg  \n",
            "  inflating: train/plane/PLANE221.jpg  \n",
            "  inflating: train/plane/PLANE225.jpg  \n",
            "  inflating: train/plane/PLANE226.jpg  \n",
            "  inflating: train/plane/PLANE228.jpg  \n",
            "  inflating: train/plane/PLANE229.jpg  \n",
            "  inflating: train/plane/PLANE230.jpg  \n",
            "  inflating: train/plane/PLANE232.jpg  \n",
            "  inflating: train/plane/PLANE234.jpg  \n",
            "  inflating: train/plane/PLANE235.jpg  \n",
            "  inflating: train/plane/PLANE237.jpg  \n",
            "  inflating: train/plane/PLANE240.jpg  \n",
            "  inflating: train/plane/PLANE241.jpg  \n",
            "  inflating: train/plane/PLANE247.jpg  \n",
            "  inflating: train/plane/PLANE248.jpg  \n",
            "  inflating: train/plane/PLANE25.jpg  \n",
            "  inflating: train/plane/PLANE252.jpg  \n",
            "  inflating: train/plane/PLANE253.jpg  \n",
            "  inflating: train/plane/PLANE254.jpg  \n",
            "  inflating: train/plane/PLANE256.jpg  \n",
            "  inflating: train/plane/PLANE258.jpg  \n",
            "  inflating: train/plane/PLANE259.jpg  \n",
            "  inflating: train/plane/PLANE26.jpg  \n",
            "  inflating: train/plane/PLANE260.jpg  \n",
            "  inflating: train/plane/PLANE27.jpg  \n",
            "  inflating: train/plane/PLANE29.jpg  \n",
            "  inflating: train/plane/PLANE3.jpg  \n",
            "  inflating: train/plane/PLANE34.jpg  \n",
            "  inflating: train/plane/PLANE35.jpg  \n",
            "  inflating: train/plane/PLANE36.jpg  \n",
            "  inflating: train/plane/PLANE37.jpg  \n",
            "  inflating: train/plane/PLANE38.jpg  \n",
            "  inflating: train/plane/PLANE4.jpg  \n",
            "  inflating: train/plane/PLANE40.jpg  \n",
            "  inflating: train/plane/PLANE41.jpg  \n",
            "  inflating: train/plane/PLANE42.jpg  \n",
            "  inflating: train/plane/PLANE43.jpg  \n",
            "  inflating: train/plane/PLANE46.jpg  \n",
            "  inflating: train/plane/PLANE47.jpg  \n",
            "  inflating: train/plane/PLANE48.jpg  \n",
            "  inflating: train/plane/PLANE49.jpg  \n",
            "  inflating: train/plane/PLANE5.jpg  \n",
            "  inflating: train/plane/PLANE50.jpg  \n",
            "  inflating: train/plane/PLANE52.jpg  \n",
            "  inflating: train/plane/PLANE54.jpg  \n",
            "  inflating: train/plane/PLANE55.jpg  \n",
            "  inflating: train/plane/PLANE56.jpg  \n",
            "  inflating: train/plane/PLANE57.jpg  \n",
            "  inflating: train/plane/PLANE58.jpg  \n",
            "  inflating: train/plane/PLANE59.jpg  \n",
            "  inflating: train/plane/PLANE6.jpg  \n",
            "  inflating: train/plane/PLANE60.jpg  \n",
            "  inflating: train/plane/PLANE61.jpg  \n",
            "  inflating: train/plane/PLANE62.jpg  \n",
            "  inflating: train/plane/PLANE64.jpg  \n",
            "  inflating: train/plane/PLANE68.jpg  \n",
            "  inflating: train/plane/PLANE69.jpg  \n",
            "  inflating: train/plane/PLANE7.jpg  \n",
            "  inflating: train/plane/PLANE71.jpg  \n",
            "  inflating: train/plane/PLANE72.jpg  \n",
            "  inflating: train/plane/PLANE76.jpg  \n",
            "  inflating: train/plane/PLANE77.jpg  \n",
            "  inflating: train/plane/PLANE78.jpg  \n",
            "  inflating: train/plane/PLANE79.jpg  \n",
            "  inflating: train/plane/PLANE8.jpg  \n",
            "  inflating: train/plane/PLANE80.jpg  \n",
            "  inflating: train/plane/PLANE81.jpg  \n",
            "  inflating: train/plane/PLANE83.jpg  \n",
            "  inflating: train/plane/PLANE84.jpg  \n",
            "  inflating: train/plane/PLANE85.jpg  \n",
            "  inflating: train/plane/PLANE86.jpg  \n",
            "  inflating: train/plane/PLANE87.jpg  \n",
            "  inflating: train/plane/PLANE88.jpg  \n",
            "  inflating: train/plane/PLANE89.jpg  \n",
            "  inflating: train/plane/PLANE9.jpg  \n",
            "  inflating: train/plane/PLANE90.jpg  \n",
            "  inflating: train/plane/PLANE92.jpg  \n",
            "  inflating: train/plane/PLANE93.jpg  \n",
            "  inflating: train/plane/PLANE94.jpg  \n",
            "  inflating: train/plane/PLANE95.jpg  \n",
            "  inflating: train/plane/PLANE97.jpg  \n",
            "  inflating: train/plane/PLANE98.jpg  \n",
            "   creating: train/tata_tiago_side/\n",
            "  inflating: train/tata_tiago_side/image_0_1149.jpeg  \n",
            "  inflating: train/tata_tiago_side/image_0_1164 - Copy.jpeg  \n",
            "  inflating: train/tata_tiago_side/image_0_1164.jpeg  \n",
            "  inflating: train/tata_tiago_side/image_0_1167 - Copy.jpeg  \n",
            "  inflating: train/tata_tiago_side/image_0_1167.jpeg  \n",
            "  inflating: train/tata_tiago_side/image_0_1169 - Copy.jpeg  \n",
            "  inflating: train/tata_tiago_side/image_0_1169.jpeg  \n",
            "  inflating: train/tata_tiago_side/image_0_1171 - Copy.jpeg  \n",
            "  inflating: train/tata_tiago_side/image_0_1171.jpeg  \n",
            "  inflating: train/tata_tiago_side/image_0_1174 - Copy.jpeg  \n",
            "  inflating: train/tata_tiago_side/image_0_1174.jpeg  \n",
            "  inflating: train/tata_tiago_side/image_0_1176 - Copy.jpeg  \n",
            "  inflating: train/tata_tiago_side/image_0_1176.jpeg  \n",
            "  inflating: train/tata_tiago_side/image_0_1182 - Copy.jpeg  \n",
            "  inflating: train/tata_tiago_side/image_0_1182.jpeg  \n",
            "  inflating: train/tata_tiago_side/image_0_1188 - Copy.jpeg  \n",
            "  inflating: train/tata_tiago_side/image_0_1188.jpeg  \n",
            "  inflating: train/tata_tiago_side/image_0_1211 - Copy.jpeg  \n",
            "  inflating: train/tata_tiago_side/image_0_1211.jpeg  \n",
            "  inflating: train/tata_tiago_side/image_0_1216 - Copy.jpeg  \n",
            "  inflating: train/tata_tiago_side/image_0_1216.jpeg  \n",
            "  inflating: train/tata_tiago_side/image_0_1223 - Copy.jpeg  \n",
            "  inflating: train/tata_tiago_side/image_0_1223.jpeg  \n",
            "  inflating: train/tata_tiago_side/image_0_1245 - Copy.jpeg  \n",
            "  inflating: train/tata_tiago_side/image_0_1245.jpeg  \n",
            "  inflating: train/tata_tiago_side/image_0_1255 - Copy.jpeg  \n",
            "  inflating: train/tata_tiago_side/image_0_1255.jpeg  \n",
            "  inflating: train/tata_tiago_side/image_0_1256 - Copy.jpeg  \n",
            "  inflating: train/tata_tiago_side/image_0_1256.jpeg  \n",
            "  inflating: train/tata_tiago_side/image_0_1257 - Copy.jpeg  \n",
            "  inflating: train/tata_tiago_side/image_0_1257.jpeg  \n",
            "  inflating: train/tata_tiago_side/image_0_1262 - Copy.jpeg  \n",
            "  inflating: train/tata_tiago_side/image_0_1262.jpeg  \n",
            "  inflating: train/tata_tiago_side/image_0_1268 - Copy.jpeg  \n",
            "  inflating: train/tata_tiago_side/image_0_1268.jpeg  \n",
            "  inflating: train/tata_tiago_side/image_0_1270 - Copy.jpeg  \n",
            "  inflating: train/tata_tiago_side/image_0_1270.jpeg  \n",
            "  inflating: train/tata_tiago_side/image_0_1277 - Copy.jpeg  \n",
            "  inflating: train/tata_tiago_side/image_0_1277.jpeg  \n",
            "  inflating: train/tata_tiago_side/image_0_1279 - Copy.jpeg  \n",
            "  inflating: train/tata_tiago_side/image_0_1279.jpeg  \n",
            "  inflating: train/tata_tiago_side/image_0_1284 - Copy.jpeg  \n",
            "  inflating: train/tata_tiago_side/image_0_1284.jpeg  \n",
            "  inflating: train/tata_tiago_side/image_0_1296 - Copy.jpeg  \n",
            "  inflating: train/tata_tiago_side/image_0_1296.jpeg  \n",
            "  inflating: train/tata_tiago_side/image_0_1298 - Copy.jpeg  \n",
            "  inflating: train/tata_tiago_side/image_0_1298.jpeg  \n",
            "  inflating: train/tata_tiago_side/image_0_1307 - Copy.jpeg  \n",
            "  inflating: train/tata_tiago_side/image_0_1307.jpeg  \n",
            "  inflating: train/tata_tiago_side/image_0_1352 - Copy.jpeg  \n",
            "  inflating: train/tata_tiago_side/image_0_1352.jpeg  \n",
            "  inflating: train/tata_tiago_side/image_0_1358 - Copy.jpeg  \n",
            "  inflating: train/tata_tiago_side/image_0_1358.jpeg  \n",
            "  inflating: train/tata_tiago_side/image_0_1372 - Copy.jpeg  \n",
            "  inflating: train/tata_tiago_side/image_0_1372.jpeg  \n",
            "  inflating: train/tata_tiago_side/image_0_1375 - Copy.jpeg  \n",
            "  inflating: train/tata_tiago_side/image_0_1375.jpeg  \n",
            "  inflating: train/tata_tiago_side/image_0_1395 - Copy.jpeg  \n",
            "  inflating: train/tata_tiago_side/image_0_1395.jpeg  \n",
            "  inflating: train/tata_tiago_side/image_0_1398 - Copy.jpeg  \n",
            "  inflating: train/tata_tiago_side/image_0_1398.jpeg  \n",
            "  inflating: train/tata_tiago_side/image_0_1399 - Copy.jpeg  \n",
            "  inflating: train/tata_tiago_side/image_0_1399.jpeg  \n",
            "  inflating: train/tata_tiago_side/image_0_1401 - Copy.jpeg  \n",
            "  inflating: train/tata_tiago_side/image_0_1401.jpeg  \n",
            "  inflating: train/tata_tiago_side/image_0_1423 - Copy.jpeg  \n",
            "  inflating: train/tata_tiago_side/image_0_1423.jpeg  \n",
            "  inflating: train/tata_tiago_side/image_0_1424 - Copy.jpeg  \n",
            "  inflating: train/tata_tiago_side/image_0_1424.jpeg  \n",
            "  inflating: train/tata_tiago_side/image_0_1428 - Copy.jpeg  \n",
            "  inflating: train/tata_tiago_side/image_0_1428.jpeg  \n",
            "  inflating: train/tata_tiago_side/image_0_1434 - Copy.jpeg  \n",
            "  inflating: train/tata_tiago_side/image_0_1434.jpeg  \n",
            "  inflating: train/tata_tiago_side/image_0_1445 - Copy.jpeg  \n",
            "  inflating: train/tata_tiago_side/image_0_1445.jpeg  \n",
            "  inflating: train/tata_tiago_side/image_0_1447 - Copy.jpeg  \n",
            "  inflating: train/tata_tiago_side/image_0_1447.jpeg  \n",
            "  inflating: train/tata_tiago_side/image_0_1461 - Copy.jpeg  \n",
            "  inflating: train/tata_tiago_side/image_0_1461.jpeg  \n",
            "  inflating: train/tata_tiago_side/image_0_1464 - Copy.jpeg  \n",
            "  inflating: train/tata_tiago_side/image_0_1464.jpeg  \n",
            "  inflating: train/tata_tiago_side/image_0_1472 - Copy.jpeg  \n",
            "  inflating: train/tata_tiago_side/image_0_1472.jpeg  \n",
            "  inflating: train/tata_tiago_side/image_0_1491 - Copy.jpeg  \n",
            "  inflating: train/tata_tiago_side/image_0_1491.jpeg  \n",
            "  inflating: train/tata_tiago_side/image_0_1493 - Copy.jpeg  \n",
            "  inflating: train/tata_tiago_side/image_0_1493.jpeg  \n",
            "  inflating: train/tata_tiago_side/image_0_1504 - Copy.jpeg  \n",
            "  inflating: train/tata_tiago_side/image_0_1504.jpeg  \n",
            "  inflating: train/tata_tiago_side/image_0_1505 - Copy.jpeg  \n",
            "  inflating: train/tata_tiago_side/image_0_1505.jpeg  \n",
            "  inflating: train/tata_tiago_side/image_0_1513 - Copy.jpeg  \n",
            "  inflating: train/tata_tiago_side/image_0_1513.jpeg  \n",
            "  inflating: train/tata_tiago_side/image_0_1523 - Copy.jpeg  \n",
            "  inflating: train/tata_tiago_side/image_0_1523.jpeg  \n",
            "  inflating: train/tata_tiago_side/image_0_1532 - Copy.jpeg  \n",
            "  inflating: train/tata_tiago_side/image_0_1532.jpeg  \n",
            "  inflating: train/tata_tiago_side/image_0_1556 - Copy.jpeg  \n",
            "  inflating: train/tata_tiago_side/image_0_1556.jpeg  \n",
            "  inflating: train/tata_tiago_side/image_0_1568 - Copy.jpeg  \n",
            "  inflating: train/tata_tiago_side/image_0_1568.jpeg  \n",
            "  inflating: train/tata_tiago_side/image_0_1571 - Copy.jpeg  \n",
            "  inflating: train/tata_tiago_side/image_0_1571.jpeg  \n",
            "  inflating: train/tata_tiago_side/image_0_1591 - Copy.jpeg  \n",
            "  inflating: train/tata_tiago_side/image_0_1591.jpeg  \n",
            "  inflating: train/tata_tiago_side/image_0_1599 - Copy.jpeg  \n",
            "  inflating: train/tata_tiago_side/image_0_1599.jpeg  \n",
            "  inflating: train/tata_tiago_side/image_0_1612 - Copy.jpeg  \n",
            "  inflating: train/tata_tiago_side/image_0_1612.jpeg  \n",
            "  inflating: train/tata_tiago_side/image_0_1613 - Copy.jpeg  \n",
            "  inflating: train/tata_tiago_side/image_0_1613.jpeg  \n",
            "  inflating: train/tata_tiago_side/image_0_1640 - Copy.jpeg  \n",
            "  inflating: train/tata_tiago_side/image_0_1640.jpeg  \n",
            "  inflating: train/tata_tiago_side/image_0_1643 - Copy.jpeg  \n",
            "  inflating: train/tata_tiago_side/image_0_1643.jpeg  \n",
            "  inflating: train/tata_tiago_side/image_0_1646 - Copy.jpeg  \n",
            "  inflating: train/tata_tiago_side/image_0_1646.jpeg  \n",
            "  inflating: train/tata_tiago_side/image_0_1649 - Copy.jpeg  \n",
            "  inflating: train/tata_tiago_side/image_0_1649.jpeg  \n",
            "  inflating: train/tata_tiago_side/image_0_1651 - Copy.jpeg  \n",
            "  inflating: train/tata_tiago_side/image_0_1651.jpeg  \n",
            "  inflating: train/tata_tiago_side/image_0_1659 - Copy.jpeg  \n",
            "  inflating: train/tata_tiago_side/image_0_1659.jpeg  \n",
            "  inflating: train/tata_tiago_side/image_0_1676 - Copy.jpeg  \n",
            "  inflating: train/tata_tiago_side/image_0_1676.jpeg  \n",
            "  inflating: train/tata_tiago_side/image_0_1678 - Copy.jpeg  \n",
            "  inflating: train/tata_tiago_side/image_0_1678.jpeg  \n",
            "  inflating: train/tata_tiago_side/image_0_1698 - Copy.jpeg  \n",
            "  inflating: train/tata_tiago_side/image_0_1698.jpeg  \n",
            "  inflating: train/tata_tiago_side/image_0_1701 - Copy.jpeg  \n",
            "  inflating: train/tata_tiago_side/image_0_1701.jpeg  \n",
            "  inflating: train/tata_tiago_side/image_0_1708 - Copy.jpeg  \n",
            "  inflating: train/tata_tiago_side/image_0_1708.jpeg  \n",
            "  inflating: train/tata_tiago_side/image_0_1711 - Copy.jpeg  \n",
            "  inflating: train/tata_tiago_side/image_0_1711.jpeg  \n",
            "  inflating: train/tata_tiago_side/image_0_1712 - Copy.jpeg  \n",
            "  inflating: train/tata_tiago_side/image_0_1712.jpeg  \n",
            "  inflating: train/tata_tiago_side/image_0_1716 - Copy.jpeg  \n",
            "  inflating: train/tata_tiago_side/image_0_1716.jpeg  \n",
            "  inflating: train/tata_tiago_side/image_0_1717 - Copy.jpeg  \n",
            "  inflating: train/tata_tiago_side/image_0_1717.jpeg  \n",
            "  inflating: train/tata_tiago_side/image_0_1723 - Copy.jpeg  \n",
            "  inflating: train/tata_tiago_side/image_0_1723.jpeg  \n",
            "  inflating: train/tata_tiago_side/image_0_1725 - Copy.jpeg  \n",
            "  inflating: train/tata_tiago_side/image_0_1725.jpeg  \n",
            "  inflating: train/tata_tiago_side/image_0_1744 - Copy.jpeg  \n",
            "  inflating: train/tata_tiago_side/image_0_1744.jpeg  \n",
            "  inflating: train/tata_tiago_side/image_0_1749 - Copy.jpeg  \n",
            "  inflating: train/tata_tiago_side/image_0_1749.jpeg  \n",
            "  inflating: train/tata_tiago_side/image_0_1762 - Copy.jpeg  \n",
            "  inflating: train/tata_tiago_side/image_0_1762.jpeg  \n",
            "  inflating: train/tata_tiago_side/image_0_1779 - Copy.jpeg  \n",
            "  inflating: train/tata_tiago_side/image_0_1779.jpeg  \n",
            "  inflating: train/tata_tiago_side/image_0_1780 - Copy.jpeg  \n",
            "  inflating: train/tata_tiago_side/image_0_1780.jpeg  \n",
            "  inflating: train/tata_tiago_side/image_0_1792 - Copy.jpeg  \n",
            "  inflating: train/tata_tiago_side/image_0_1792.jpeg  \n",
            "  inflating: train/tata_tiago_side/image_0_1808 - Copy.jpeg  \n",
            "  inflating: train/tata_tiago_side/image_0_1808.jpeg  \n",
            "  inflating: train/tata_tiago_side/image_0_1826 - Copy.jpeg  \n",
            "  inflating: train/tata_tiago_side/image_0_1826.jpeg  \n",
            "  inflating: train/tata_tiago_side/image_0_1840 - Copy.jpeg  \n",
            "  inflating: train/tata_tiago_side/image_0_1840.jpeg  \n",
            "  inflating: train/tata_tiago_side/image_0_1850 - Copy.jpeg  \n",
            "  inflating: train/tata_tiago_side/image_0_1850.jpeg  \n",
            "  inflating: train/tata_tiago_side/image_0_1864 - Copy.jpeg  \n",
            "  inflating: train/tata_tiago_side/image_0_1864.jpeg  \n",
            "  inflating: train/tata_tiago_side/image_0_1877 - Copy.jpeg  \n",
            "  inflating: train/tata_tiago_side/image_0_1877.jpeg  \n",
            "  inflating: train/tata_tiago_side/image_0_1884 - Copy.jpeg  \n",
            "  inflating: train/tata_tiago_side/image_0_1884.jpeg  \n",
            "  inflating: train/tata_tiago_side/image_0_1889 - Copy.jpeg  \n",
            "  inflating: train/tata_tiago_side/image_0_1889.jpeg  \n",
            "  inflating: train/tata_tiago_side/image_0_1917 - Copy.jpeg  \n",
            "  inflating: train/tata_tiago_side/image_0_1917.jpeg  \n",
            "  inflating: train/tata_tiago_side/image_0_1929 - Copy.jpeg  \n",
            "  inflating: train/tata_tiago_side/image_0_1929.jpeg  \n",
            "  inflating: train/tata_tiago_side/image_0_1938 - Copy.jpeg  \n",
            "  inflating: train/tata_tiago_side/image_0_1938.jpeg  \n",
            "  inflating: train/tata_tiago_side/image_0_1940 - Copy.jpeg  \n",
            "  inflating: train/tata_tiago_side/image_0_2130.jpeg  \n",
            "  inflating: train/tata_tiago_side/image_0_2134 - Copy.jpeg  \n",
            "  inflating: train/tata_tiago_side/image_0_2134.jpeg  \n",
            "  inflating: train/tata_tiago_side/image_0_2140 - Copy.jpeg  \n",
            "  inflating: train/tata_tiago_side/image_0_2140.jpeg  \n",
            "  inflating: train/tata_tiago_side/image_0_2142 - Copy.jpeg  \n",
            "  inflating: train/tata_tiago_side/image_0_2142.jpeg  \n",
            "  inflating: train/tata_tiago_side/image_0_2148 - Copy.jpeg  \n",
            "  inflating: train/tata_tiago_side/image_0_2148.jpeg  \n",
            "  inflating: train/tata_tiago_side/image_0_2149 - Copy.jpeg  \n",
            "  inflating: train/tata_tiago_side/image_0_2149.jpeg  \n",
            "  inflating: train/tata_tiago_side/image_0_2151 - Copy.jpeg  \n",
            "  inflating: train/tata_tiago_side/image_0_2151.jpeg  \n",
            "  inflating: train/tata_tiago_side/image_0_2157 - Copy.jpeg  \n",
            "  inflating: train/tata_tiago_side/image_0_2157.jpeg  \n",
            "  inflating: train/tata_tiago_side/image_0_2163 - Copy.jpeg  \n",
            "  inflating: train/tata_tiago_side/image_0_2163.jpeg  \n",
            "  inflating: train/tata_tiago_side/image_0_2172 - Copy.jpeg  \n",
            "  inflating: train/tata_tiago_side/image_0_2172.jpeg  \n",
            "  inflating: train/tata_tiago_side/image_0_2187 - Copy.jpeg  \n",
            "  inflating: train/tata_tiago_side/image_0_2187.jpeg  \n",
            "  inflating: train/tata_tiago_side/image_0_2190 - Copy.jpeg  \n",
            "  inflating: train/tata_tiago_side/image_0_2190.jpeg  \n",
            "  inflating: train/tata_tiago_side/image_0_2201 - Copy.jpeg  \n",
            "  inflating: train/tata_tiago_side/image_0_2201.jpeg  \n",
            "  inflating: train/tata_tiago_side/image_0_2211 - Copy.jpeg  \n",
            "  inflating: train/tata_tiago_side/image_0_2211.jpeg  \n",
            "  inflating: train/tata_tiago_side/image_0_2230 - Copy.jpeg  \n",
            "  inflating: train/tata_tiago_side/image_0_2230.jpeg  \n",
            "  inflating: train/tata_tiago_side/image_0_2233 - Copy.jpeg  \n",
            "  inflating: train/tata_tiago_side/image_0_2233.jpeg  \n",
            "  inflating: train/tata_tiago_side/image_0_2262 - Copy.jpeg  \n",
            "  inflating: train/tata_tiago_side/image_0_2262.jpeg  \n",
            "  inflating: train/tata_tiago_side/image_0_2264 - Copy.jpeg  \n",
            "  inflating: train/tata_tiago_side/image_0_2264.jpeg  \n",
            "  inflating: train/tata_tiago_side/image_0_2272 - Copy.jpeg  \n",
            "  inflating: train/tata_tiago_side/image_0_2272.jpeg  \n",
            "  inflating: train/tata_tiago_side/image_0_2274 - Copy.jpeg  \n",
            "  inflating: train/tata_tiago_side/image_0_2274.jpeg  \n",
            "  inflating: train/tata_tiago_side/image_0_2277 - Copy.jpeg  \n",
            "  inflating: train/tata_tiago_side/image_0_2277.jpeg  \n",
            "  inflating: train/tata_tiago_side/image_0_2308 - Copy.jpeg  \n",
            "  inflating: train/tata_tiago_side/image_0_2308.jpeg  \n",
            "  inflating: train/tata_tiago_side/image_0_2310 - Copy.jpeg  \n",
            "  inflating: train/tata_tiago_side/image_0_2310.jpeg  \n",
            "  inflating: train/tata_tiago_side/image_0_2322 - Copy.jpeg  \n",
            "  inflating: train/tata_tiago_side/image_0_2322.jpeg  \n",
            "  inflating: train/tata_tiago_side/image_0_2326 - Copy.jpeg  \n",
            "  inflating: train/tata_tiago_side/image_0_2326.jpeg  \n",
            "  inflating: train/tata_tiago_side/image_0_2332 - Copy.jpeg  \n",
            "  inflating: train/tata_tiago_side/image_0_2332.jpeg  \n",
            "  inflating: train/tata_tiago_side/image_0_2334 - Copy.jpeg  \n",
            "  inflating: train/tata_tiago_side/image_0_2334.jpeg  \n",
            "  inflating: train/tata_tiago_side/image_0_2336 - Copy.jpeg  \n",
            "  inflating: train/tata_tiago_side/image_0_2336.jpeg  \n",
            "  inflating: train/tata_tiago_side/image_0_2338 - Copy.jpeg  \n",
            "  inflating: train/tata_tiago_side/image_0_2338.jpeg  \n",
            "  inflating: train/tata_tiago_side/image_0_2348 - Copy.jpeg  \n",
            "  inflating: train/tata_tiago_side/image_0_2348.jpeg  \n",
            "  inflating: train/tata_tiago_side/image_0_2353 - Copy.jpeg  \n",
            "  inflating: train/tata_tiago_side/image_0_2353.jpeg  \n",
            "  inflating: train/tata_tiago_side/image_0_2354 - Copy.jpeg  \n",
            "  inflating: train/tata_tiago_side/image_0_2354.jpeg  \n",
            "  inflating: train/tata_tiago_side/image_0_2355 - Copy.jpeg  \n",
            "  inflating: train/tata_tiago_side/image_0_2355.jpeg  \n",
            "  inflating: train/tata_tiago_side/image_0_2363 - Copy.jpeg  \n",
            "  inflating: train/tata_tiago_side/image_0_2363.jpeg  \n",
            "  inflating: train/tata_tiago_side/image_0_2367 - Copy.jpeg  \n",
            "  inflating: train/tata_tiago_side/image_0_2367.jpeg  \n",
            "  inflating: train/tata_tiago_side/image_0_2382 - Copy.jpeg  \n",
            "  inflating: train/tata_tiago_side/image_0_2382.jpeg  \n",
            "  inflating: train/tata_tiago_side/image_0_2385 - Copy.jpeg  \n",
            "  inflating: train/tata_tiago_side/image_0_2385.jpeg  \n",
            "  inflating: train/tata_tiago_side/image_0_2386 - Copy.jpeg  \n",
            "  inflating: train/tata_tiago_side/image_0_2386.jpeg  \n",
            "  inflating: train/tata_tiago_side/image_0_2387 - Copy.jpeg  \n",
            "  inflating: train/tata_tiago_side/image_0_2387.jpeg  \n",
            "  inflating: train/tata_tiago_side/image_0_2394 - Copy.jpeg  \n",
            "  inflating: train/tata_tiago_side/image_0_2394.jpeg  \n",
            "  inflating: train/tata_tiago_side/image_0_2399 - Copy.jpeg  \n",
            "  inflating: train/tata_tiago_side/image_0_2399.jpeg  \n",
            "  inflating: train/tata_tiago_side/image_0_2401 - Copy.jpeg  \n",
            "  inflating: train/tata_tiago_side/image_0_2401.jpeg  \n",
            "  inflating: train/tata_tiago_side/image_0_2402 - Copy.jpeg  \n",
            "  inflating: train/tata_tiago_side/image_0_2402.jpeg  \n",
            "  inflating: train/tata_tiago_side/image_0_2403 - Copy.jpeg  \n",
            "  inflating: train/tata_tiago_side/image_0_2403.jpeg  \n",
            "  inflating: train/tata_tiago_side/image_0_2416 - Copy.jpeg  \n",
            "  inflating: train/tata_tiago_side/image_0_2416.jpeg  \n",
            "  inflating: train/tata_tiago_side/image_0_2422 - Copy.jpeg  \n",
            "  inflating: train/tata_tiago_side/image_0_2422.jpeg  \n",
            "  inflating: train/tata_tiago_side/image_0_2436 - Copy.jpeg  \n",
            "  inflating: train/tata_tiago_side/image_0_2436.jpeg  \n",
            "  inflating: train/tata_tiago_side/image_0_2443 - Copy.jpeg  \n",
            "  inflating: train/tata_tiago_side/image_0_2443.jpeg  \n",
            "  inflating: train/tata_tiago_side/image_0_2454 - Copy.jpeg  \n",
            "  inflating: train/tata_tiago_side/image_0_2454.jpeg  \n",
            "  inflating: train/tata_tiago_side/image_0_2455 - Copy.jpeg  \n",
            "  inflating: train/tata_tiago_side/image_0_2455.jpeg  \n",
            "  inflating: train/tata_tiago_side/image_0_2460 - Copy.jpeg  \n",
            "  inflating: train/tata_tiago_side/image_0_2460.jpeg  \n",
            "  inflating: train/tata_tiago_side/image_0_2461 - Copy.jpeg  \n",
            "  inflating: train/tata_tiago_side/image_0_2461.jpeg  \n",
            "  inflating: train/tata_tiago_side/image_0_2476 - Copy.jpeg  \n",
            "  inflating: train/tata_tiago_side/image_0_2476.jpeg  \n",
            "  inflating: train/tata_tiago_side/image_0_2480 - Copy.jpeg  \n",
            "  inflating: train/tata_tiago_side/image_0_2480.jpeg  \n",
            "  inflating: train/tata_tiago_side/image_0_2491 - Copy.jpeg  \n",
            "  inflating: train/tata_tiago_side/image_0_2491.jpeg  \n",
            "  inflating: train/tata_tiago_side/image_0_2492 - Copy.jpeg  \n",
            "  inflating: train/tata_tiago_side/image_0_2492.jpeg  \n",
            "  inflating: train/tata_tiago_side/image_0_2508 - Copy.jpeg  \n",
            "  inflating: train/tata_tiago_side/image_0_2508.jpeg  \n",
            "  inflating: train/tata_tiago_side/image_0_2541 - Copy.jpeg  \n",
            "  inflating: train/tata_tiago_side/image_0_2541.jpeg  \n",
            "  inflating: train/tata_tiago_side/image_0_2543 - Copy.jpeg  \n",
            "  inflating: train/tata_tiago_side/image_0_2543.jpeg  \n",
            "  inflating: train/tata_tiago_side/image_0_2547 - Copy.jpeg  \n",
            "  inflating: train/tata_tiago_side/image_0_2547.jpeg  \n",
            "  inflating: train/tata_tiago_side/image_0_2548 - Copy.jpeg  \n",
            "  inflating: train/tata_tiago_side/image_0_2548.jpeg  \n",
            "  inflating: train/tata_tiago_side/image_0_2556 - Copy.jpeg  \n",
            "  inflating: train/tata_tiago_side/image_0_2556.jpeg  \n",
            "  inflating: train/tata_tiago_side/image_0_2561 - Copy.jpeg  \n",
            "  inflating: train/tata_tiago_side/image_0_2561.jpeg  \n",
            "  inflating: train/tata_tiago_side/image_0_2573 - Copy.jpeg  \n",
            "  inflating: train/tata_tiago_side/image_0_2573.jpeg  \n",
            "  inflating: train/tata_tiago_side/image_0_2575 - Copy.jpeg  \n",
            "  inflating: train/tata_tiago_side/image_0_2575.jpeg  \n",
            "  inflating: train/tata_tiago_side/image_0_2580 - Copy.jpeg  \n",
            "  inflating: train/tata_tiago_side/image_0_2580.jpeg  \n",
            "  inflating: train/tata_tiago_side/image_0_2588 - Copy.jpeg  \n",
            "  inflating: train/tata_tiago_side/image_0_2588.jpeg  \n",
            "  inflating: train/tata_tiago_side/image_0_2595 - Copy.jpeg  \n",
            "  inflating: train/tata_tiago_side/image_0_2595.jpeg  \n",
            "  inflating: train/tata_tiago_side/image_0_2596 - Copy.jpeg  \n",
            "  inflating: train/tata_tiago_side/image_0_2596.jpeg  \n",
            "  inflating: train/tata_tiago_side/image_0_2606 - Copy.jpeg  \n",
            "  inflating: train/tata_tiago_side/image_0_2606.jpeg  \n",
            "  inflating: train/tata_tiago_side/image_0_2614 - Copy.jpeg  \n",
            "  inflating: train/tata_tiago_side/image_0_2614.jpeg  \n",
            "  inflating: train/tata_tiago_side/image_0_2615 - Copy.jpeg  \n",
            "  inflating: train/tata_tiago_side/image_0_2615.jpeg  \n",
            "  inflating: train/tata_tiago_side/image_0_2629 - Copy.jpeg  \n",
            "  inflating: train/tata_tiago_side/image_0_2629.jpeg  \n",
            "  inflating: train/tata_tiago_side/image_0_2630 - Copy.jpeg  \n",
            "  inflating: train/tata_tiago_side/image_0_2630.jpeg  \n",
            "  inflating: train/tata_tiago_side/image_0_2636 - Copy.jpeg  \n",
            "  inflating: train/tata_tiago_side/image_0_2636.jpeg  \n",
            "  inflating: train/tata_tiago_side/image_0_2637 - Copy.jpeg  \n",
            "  inflating: train/tata_tiago_side/image_0_2637.jpeg  \n",
            "  inflating: train/tata_tiago_side/image_0_2644 - Copy.jpeg  \n",
            "  inflating: train/tata_tiago_side/image_0_2644.jpeg  \n",
            "  inflating: train/tata_tiago_side/image_0_2647 - Copy.jpeg  \n",
            "  inflating: train/tata_tiago_side/image_0_2647.jpeg  \n",
            "  inflating: train/tata_tiago_side/image_0_2657 - Copy.jpeg  \n",
            "  inflating: train/tata_tiago_side/image_0_2657.jpeg  \n",
            "  inflating: train/tata_tiago_side/image_0_2666 - Copy.jpeg  \n",
            "  inflating: train/tata_tiago_side/image_0_2666.jpeg  \n",
            "  inflating: train/tata_tiago_side/image_0_2667 - Copy.jpeg  \n",
            "  inflating: train/tata_tiago_side/image_0_2667.jpeg  \n",
            "  inflating: train/tata_tiago_side/image_0_2676 - Copy.jpeg  \n",
            "  inflating: train/tata_tiago_side/image_0_2676.jpeg  \n",
            "  inflating: train/tata_tiago_side/image_0_2678 - Copy.jpeg  \n",
            "  inflating: train/tata_tiago_side/image_0_2678.jpeg  \n",
            "  inflating: train/tata_tiago_side/image_0_2689 - Copy.jpeg  \n",
            "  inflating: train/tata_tiago_side/image_0_2689.jpeg  \n",
            "  inflating: train/tata_tiago_side/image_0_2692 - Copy.jpeg  \n",
            "  inflating: train/tata_tiago_side/image_0_2692.jpeg  \n",
            "  inflating: train/tata_tiago_side/image_0_2698 - Copy.jpeg  \n",
            "  inflating: train/tata_tiago_side/image_0_2698.jpeg  \n",
            "  inflating: train/tata_tiago_side/image_0_2704 - Copy.jpeg  \n",
            "  inflating: train/tata_tiago_side/image_0_2704.jpeg  \n",
            "  inflating: train/tata_tiago_side/image_0_2707 - Copy.jpeg  \n",
            "  inflating: train/tata_tiago_side/image_0_2707.jpeg  \n",
            "  inflating: train/tata_tiago_side/image_0_2709 - Copy.jpeg  \n",
            "  inflating: train/tata_tiago_side/image_0_2709.jpeg  \n",
            "  inflating: train/tata_tiago_side/image_0_2723 - Copy.jpeg  \n",
            "  inflating: train/tata_tiago_side/image_0_2723.jpeg  \n",
            "  inflating: train/tata_tiago_side/image_0_2727 - Copy.jpeg  \n",
            "  inflating: train/tata_tiago_side/image_0_2727.jpeg  \n",
            "  inflating: train/tata_tiago_side/image_0_2729 - Copy.jpeg  \n",
            "  inflating: train/tata_tiago_side/image_0_2729.jpeg  \n",
            "  inflating: train/tata_tiago_side/image_0_2731 - Copy.jpeg  \n",
            "  inflating: train/tata_tiago_side/image_0_2731.jpeg  \n",
            "  inflating: train/tata_tiago_side/image_0_2732 - Copy.jpeg  \n",
            "  inflating: train/tata_tiago_side/image_0_2732.jpeg  \n",
            "  inflating: train/tata_tiago_side/image_0_2733 - Copy.jpeg  \n",
            "  inflating: train/tata_tiago_side/image_0_2733.jpeg  \n",
            "  inflating: train/tata_tiago_side/image_0_2742 - Copy.jpeg  \n",
            "  inflating: train/tata_tiago_side/image_0_2742.jpeg  \n",
            "  inflating: train/tata_tiago_side/image_0_2746 - Copy.jpeg  \n",
            "  inflating: train/tata_tiago_side/image_0_2746.jpeg  \n",
            "  inflating: train/tata_tiago_side/image_0_2762 - Copy.jpeg  \n",
            "  inflating: train/tata_tiago_side/image_0_2762.jpeg  \n",
            "  inflating: train/tata_tiago_side/image_0_2767 - Copy.jpeg  \n",
            "  inflating: train/tata_tiago_side/image_0_2767.jpeg  \n",
            "  inflating: train/tata_tiago_side/image_0_2782 - Copy.jpeg  \n",
            "  inflating: train/tata_tiago_side/image_0_2782.jpeg  \n",
            "  inflating: train/tata_tiago_side/image_0_2789 - Copy.jpeg  \n",
            "  inflating: train/tata_tiago_side/image_0_2789.jpeg  \n",
            "  inflating: train/tata_tiago_side/image_0_2791 - Copy.jpeg  \n",
            "  inflating: train/tata_tiago_side/image_0_2791.jpeg  \n",
            "  inflating: train/tata_tiago_side/image_0_2794 - Copy.jpeg  \n",
            "  inflating: train/tata_tiago_side/image_0_2794.jpeg  \n",
            "  inflating: train/tata_tiago_side/image_0_2796 - Copy.jpeg  \n",
            "  inflating: train/tata_tiago_side/image_0_2796.jpeg  \n",
            "  inflating: train/tata_tiago_side/image_0_2803 - Copy.jpeg  \n",
            "  inflating: train/tata_tiago_side/image_0_2803.jpeg  \n",
            "  inflating: train/tata_tiago_side/image_0_2805 - Copy.jpeg  \n",
            "  inflating: train/tata_tiago_side/image_0_2805.jpeg  \n",
            "  inflating: train/tata_tiago_side/image_0_2809 - Copy.jpeg  \n",
            "  inflating: train/tata_tiago_side/image_0_2809.jpeg  \n",
            "  inflating: train/tata_tiago_side/image_0_2823 - Copy.jpeg  \n",
            "  inflating: train/tata_tiago_side/image_0_2823.jpeg  \n",
            "  inflating: train/tata_tiago_side/image_0_2824 - Copy.jpeg  \n",
            "  inflating: train/tata_tiago_side/image_0_2824.jpeg  \n",
            "  inflating: train/tata_tiago_side/image_0_2840 - Copy.jpeg  \n",
            "  inflating: train/tata_tiago_side/image_0_2840.jpeg  \n",
            "  inflating: train/tata_tiago_side/image_0_2846 - Copy.jpeg  \n",
            "  inflating: train/tata_tiago_side/image_0_2846.jpeg  \n",
            "  inflating: train/tata_tiago_side/image_0_2848 - Copy.jpeg  \n",
            "  inflating: train/tata_tiago_side/image_0_2848.jpeg  \n",
            "  inflating: train/tata_tiago_side/image_0_2852 - Copy.jpeg  \n",
            "  inflating: train/tata_tiago_side/image_0_2852.jpeg  \n",
            "  inflating: train/tata_tiago_side/image_0_2857 - Copy.jpeg  \n",
            "  inflating: train/tata_tiago_side/image_0_2857.jpeg  \n",
            "  inflating: train/tata_tiago_side/image_0_2871 - Copy.jpeg  \n",
            "  inflating: train/tata_tiago_side/image_0_2871.jpeg  \n",
            "  inflating: train/tata_tiago_side/image_0_2912 - Copy.jpeg  \n",
            "  inflating: train/tata_tiago_side/image_0_2912.jpeg  \n",
            "  inflating: train/tata_tiago_side/image_0_2921 - Copy.jpeg  \n",
            "  inflating: train/tata_tiago_side/image_0_2921.jpeg  \n",
            "  inflating: train/tata_tiago_side/image_0_2932 - Copy.jpeg  \n",
            "  inflating: train/tata_tiago_side/image_0_2932.jpeg  \n",
            "  inflating: train/tata_tiago_side/image_0_2933 - Copy.jpeg  \n",
            "  inflating: train/tata_tiago_side/image_0_2933.jpeg  \n",
            "  inflating: train/tata_tiago_side/image_0_2936 - Copy.jpeg  \n",
            "  inflating: train/tata_tiago_side/image_0_2936.jpeg  \n",
            "  inflating: train/tata_tiago_side/image_0_2937 - Copy.jpeg  \n",
            "  inflating: train/tata_tiago_side/image_0_2937.jpeg  \n",
            "  inflating: train/tata_tiago_side/image_0_2943 - Copy.jpeg  \n",
            "  inflating: train/tata_tiago_side/image_0_2943.jpeg  \n",
            "  inflating: train/tata_tiago_side/image_0_2949 - Copy.jpeg  \n",
            "  inflating: train/tata_tiago_side/image_0_2949.jpeg  \n",
            "  inflating: train/tata_tiago_side/image_0_2957 - Copy.jpeg  \n",
            "  inflating: train/tata_tiago_side/image_0_2957.jpeg  \n",
            "  inflating: train/tata_tiago_side/image_0_2962 - Copy.jpeg  \n",
            "  inflating: train/tata_tiago_side/image_0_2962.jpeg  \n",
            "  inflating: train/tata_tiago_side/image_0_2963 - Copy.jpeg  \n",
            "  inflating: train/tata_tiago_side/image_0_2963.jpeg  \n",
            "  inflating: train/tata_tiago_side/image_0_2965 - Copy.jpeg  \n",
            "  inflating: train/tata_tiago_side/image_0_2965.jpeg  \n",
            "  inflating: train/tata_tiago_side/image_0_2966 - Copy.jpeg  \n",
            "  inflating: train/tata_tiago_side/image_0_2966.jpeg  \n",
            "  inflating: train/tata_tiago_side/image_0_2971 - Copy.jpeg  \n",
            "  inflating: train/tata_tiago_side/image_0_2971.jpeg  \n",
            "  inflating: train/tata_tiago_side/image_0_2972 - Copy.jpeg  \n",
            "  inflating: train/tata_tiago_side/image_0_2972.jpeg  \n",
            "  inflating: train/tata_tiago_side/image_0_2974 - Copy.jpeg  \n",
            "  inflating: train/tata_tiago_side/image_0_2974.jpeg  \n",
            "  inflating: train/tata_tiago_side/image_0_2979 - Copy.jpeg  \n",
            "  inflating: train/tata_tiago_side/image_0_2979.jpeg  \n",
            "  inflating: train/tata_tiago_side/image_0_2984 - Copy.jpeg  \n",
            "  inflating: train/tata_tiago_side/image_0_2984.jpeg  \n",
            "  inflating: train/tata_tiago_side/image_0_2988 - Copy.jpeg  \n",
            "  inflating: train/tata_tiago_side/image_0_2988.jpeg  \n",
            "  inflating: train/tata_tiago_side/image_0_2991 - Copy.jpeg  \n",
            "  inflating: train/tata_tiago_side/image_0_2991.jpeg  \n",
            "  inflating: train/tata_tiago_side/image_0_2993 - Copy.jpeg  \n",
            "  inflating: train/tata_tiago_side/image_0_2993.jpeg  \n",
            "  inflating: train/tata_tiago_side/image_0_3013 - Copy.jpeg  \n",
            "  inflating: train/tata_tiago_side/image_0_3013.jpeg  \n",
            "  inflating: train/tata_tiago_side/image_0_3015 - Copy.jpeg  \n",
            "  inflating: train/tata_tiago_side/image_0_3015.jpeg  \n",
            "  inflating: train/tata_tiago_side/image_0_3032 - Copy.jpeg  \n",
            "  inflating: train/tata_tiago_side/image_0_3032.jpeg  \n",
            "  inflating: train/tata_tiago_side/image_0_3052 - Copy.jpeg  \n",
            "  inflating: train/tata_tiago_side/image_0_3052.jpeg  \n",
            "  inflating: train/tata_tiago_side/image_0_3057 - Copy.jpeg  \n",
            "  inflating: train/tata_tiago_side/image_0_3057.jpeg  \n",
            "  inflating: train/tata_tiago_side/image_0_3065 - Copy.jpeg  \n",
            "  inflating: train/tata_tiago_side/image_0_3065.jpeg  \n",
            "  inflating: train/tata_tiago_side/image_0_3069 - Copy.jpeg  \n",
            "  inflating: train/tata_tiago_side/image_0_3069.jpeg  \n",
            "  inflating: train/tata_tiago_side/image_0_3075 - Copy.jpeg  \n",
            "  inflating: train/tata_tiago_side/image_0_3075.jpeg  \n",
            "  inflating: train/tata_tiago_side/image_0_3077 - Copy.jpeg  \n",
            "  inflating: train/tata_tiago_side/image_0_3077.jpeg  \n",
            "  inflating: train/tata_tiago_side/image_0_3078 - Copy.jpeg  \n",
            "  inflating: train/tata_tiago_side/image_0_3078.jpeg  \n",
            "  inflating: train/tata_tiago_side/image_0_3102 - Copy.jpeg  \n",
            "  inflating: train/tata_tiago_side/image_0_3102.jpeg  \n",
            "  inflating: train/tata_tiago_side/image_0_3114 - Copy.jpeg  \n",
            "  inflating: train/tata_tiago_side/image_0_3114.jpeg  \n",
            "  inflating: train/tata_tiago_side/image_0_3124 - Copy.jpeg  \n",
            "  inflating: train/tata_tiago_side/image_0_3124.jpeg  \n",
            "  inflating: train/tata_tiago_side/image_0_3133 - Copy.jpeg  \n",
            "  inflating: train/tata_tiago_side/image_0_3133.jpeg  \n",
            "  inflating: train/tata_tiago_side/image_0_3134 - Copy.jpeg  \n",
            "  inflating: train/tata_tiago_side/image_0_3134.jpeg  \n",
            "   creating: validation/plane/\n",
            "  inflating: validation/plane/PLANE1.jpg  \n",
            "  inflating: validation/plane/PLANE10.jpg  \n",
            "  inflating: validation/plane/PLANE11.jpg  \n",
            "  inflating: validation/plane/PLANE12.jpg  \n",
            "  inflating: validation/plane/PLANE13.jpg  \n",
            "  inflating: validation/plane/PLANE14.jpg  \n",
            "  inflating: validation/plane/PLANE15.jpg  \n",
            "  inflating: validation/plane/PLANE16.jpg  \n",
            "  inflating: validation/plane/PLANE17.jpg  \n",
            "  inflating: validation/plane/PLANE18.jpg  \n",
            "  inflating: validation/plane/PLANE19.jpg  \n",
            "  inflating: validation/plane/PLANE2.jpg  \n",
            "  inflating: validation/plane/PLANE20.jpg  \n",
            "  inflating: validation/plane/PLANE21.jpg  \n",
            "  inflating: validation/plane/PLANE22.jpg  \n",
            "  inflating: validation/plane/PLANE23.jpg  \n",
            "  inflating: validation/plane/PLANE24.jpg  \n",
            "  inflating: validation/plane/PLANE25.jpg  \n",
            "  inflating: validation/plane/PLANE26.jpg  \n",
            "  inflating: validation/plane/PLANE27.jpg  \n",
            "  inflating: validation/plane/PLANE28.jpg  \n",
            "  inflating: validation/plane/PLANE29.jpg  \n",
            "  inflating: validation/plane/PLANE3.jpg  \n",
            "  inflating: validation/plane/PLANE30.jpg  \n",
            "  inflating: validation/plane/PLANE31.jpg  \n",
            "  inflating: validation/plane/PLANE32.jpg  \n",
            "  inflating: validation/plane/PLANE33.jpg  \n",
            "  inflating: validation/plane/PLANE34.jpg  \n",
            "  inflating: validation/plane/PLANE35.jpg  \n",
            "  inflating: validation/plane/PLANE36.jpg  \n",
            "  inflating: validation/plane/PLANE37.jpg  \n",
            "  inflating: validation/plane/PLANE38.jpg  \n",
            "  inflating: validation/plane/PLANE39.jpg  \n",
            "  inflating: validation/plane/PLANE4.jpg  \n",
            "  inflating: validation/plane/PLANE40.jpg  \n",
            "  inflating: validation/plane/PLANE41.jpg  \n",
            "  inflating: validation/plane/PLANE42.jpg  \n",
            "  inflating: validation/plane/PLANE43.jpg  \n",
            "  inflating: validation/plane/PLANE44.jpg  \n",
            "  inflating: validation/plane/PLANE45.jpg  \n",
            "  inflating: validation/plane/PLANE46.jpg  \n",
            "  inflating: validation/plane/PLANE47.jpg  \n",
            "  inflating: validation/plane/PLANE48.jpg  \n",
            "  inflating: validation/plane/PLANE49.jpg  \n",
            "  inflating: validation/plane/PLANE5.jpg  \n",
            "  inflating: validation/plane/PLANE50.jpg  \n",
            "  inflating: validation/plane/PLANE51.jpg  \n",
            "  inflating: validation/plane/PLANE52.jpg  \n",
            "  inflating: validation/plane/PLANE53.jpg  \n",
            "  inflating: validation/plane/PLANE54.jpg  \n",
            "  inflating: validation/plane/PLANE55.jpg  \n",
            "  inflating: validation/plane/PLANE56.jpg  \n",
            "  inflating: validation/plane/PLANE57.jpg  \n",
            "  inflating: validation/plane/PLANE58.jpg  \n",
            "  inflating: validation/plane/PLANE59.jpg  \n",
            "  inflating: validation/plane/PLANE6.jpg  \n",
            "  inflating: validation/plane/PLANE60.jpg  \n",
            "  inflating: validation/plane/PLANE61.jpg  \n",
            "  inflating: validation/plane/PLANE62.jpg  \n",
            "  inflating: validation/plane/PLANE63.jpg  \n",
            "  inflating: validation/plane/PLANE64.jpg  \n",
            "  inflating: validation/plane/PLANE65.jpg  \n",
            "  inflating: validation/plane/PLANE66.jpg  \n",
            "  inflating: validation/plane/PLANE67.jpg  \n",
            "  inflating: validation/plane/PLANE68.jpg  \n",
            "  inflating: validation/plane/PLANE69.jpg  \n",
            "  inflating: validation/plane/PLANE7.jpg  \n",
            "  inflating: validation/plane/PLANE70.jpg  \n",
            "  inflating: validation/plane/PLANE8.jpg  \n",
            "  inflating: validation/plane/PLANE9.jpg  \n",
            "   creating: validation/tata_tiago_side/\n",
            "  inflating: validation/tata_tiago_side/image_0_8379.jpeg  \n",
            "  inflating: validation/tata_tiago_side/image_0_8395.jpeg  \n",
            "  inflating: validation/tata_tiago_side/image_0_8402.jpeg  \n",
            "  inflating: validation/tata_tiago_side/image_0_8405.jpeg  \n",
            "  inflating: validation/tata_tiago_side/image_0_8408.jpeg  \n",
            "  inflating: validation/tata_tiago_side/image_0_8409.jpeg  \n",
            "  inflating: validation/tata_tiago_side/image_0_8410.jpeg  \n",
            "  inflating: validation/tata_tiago_side/image_0_8430.jpeg  \n",
            "  inflating: validation/tata_tiago_side/image_0_8434.jpeg  \n",
            "  inflating: validation/tata_tiago_side/image_0_8439.jpeg  \n",
            "  inflating: validation/tata_tiago_side/image_0_8445.jpeg  \n",
            "  inflating: validation/tata_tiago_side/image_0_8455.jpeg  \n",
            "  inflating: validation/tata_tiago_side/image_0_8470.jpeg  \n",
            "  inflating: validation/tata_tiago_side/image_0_8471.jpeg  \n",
            "  inflating: validation/tata_tiago_side/image_0_8478.jpeg  \n",
            "  inflating: validation/tata_tiago_side/image_0_8484.jpeg  \n",
            "  inflating: validation/tata_tiago_side/image_0_8486.jpeg  \n",
            "  inflating: validation/tata_tiago_side/image_0_8488.jpeg  \n",
            "  inflating: validation/tata_tiago_side/image_0_8489.jpeg  \n",
            "  inflating: validation/tata_tiago_side/image_0_8496.jpeg  \n",
            "  inflating: validation/tata_tiago_side/image_0_8502.jpeg  \n",
            "  inflating: validation/tata_tiago_side/image_0_8505.jpeg  \n",
            "  inflating: validation/tata_tiago_side/image_0_8517.jpeg  \n",
            "  inflating: validation/tata_tiago_side/image_0_8521.jpeg  \n",
            "  inflating: validation/tata_tiago_side/image_0_8522.jpeg  \n",
            "  inflating: validation/tata_tiago_side/image_0_8523.jpeg  \n",
            "  inflating: validation/tata_tiago_side/image_0_8542.jpeg  \n",
            "  inflating: validation/tata_tiago_side/image_0_8553.jpeg  \n",
            "  inflating: validation/tata_tiago_side/image_0_8560.jpeg  \n",
            "  inflating: validation/tata_tiago_side/image_0_8567.jpeg  \n",
            "  inflating: validation/tata_tiago_side/image_0_8568.jpeg  \n",
            "  inflating: validation/tata_tiago_side/image_0_8571.jpeg  \n",
            "  inflating: validation/tata_tiago_side/image_0_8575.jpeg  \n",
            "  inflating: validation/tata_tiago_side/image_0_8580.jpeg  \n",
            "  inflating: validation/tata_tiago_side/image_0_8588.jpeg  \n",
            "  inflating: validation/tata_tiago_side/image_0_8597.jpeg  \n",
            "  inflating: validation/tata_tiago_side/image_0_8616.jpeg  \n",
            "  inflating: validation/tata_tiago_side/image_0_8617.jpeg  \n",
            "  inflating: validation/tata_tiago_side/image_0_8634.jpeg  \n",
            "  inflating: validation/tata_tiago_side/image_0_8636.jpeg  \n",
            "  inflating: validation/tata_tiago_side/image_0_8663.jpeg  \n",
            "  inflating: validation/tata_tiago_side/image_0_8664.jpeg  \n",
            "  inflating: validation/tata_tiago_side/image_0_8674.jpeg  \n",
            "  inflating: validation/tata_tiago_side/image_0_8680.jpeg  \n",
            "  inflating: validation/tata_tiago_side/image_0_8683.jpeg  \n",
            "  inflating: validation/tata_tiago_side/image_0_8685.jpeg  \n",
            "  inflating: validation/tata_tiago_side/image_0_8691.jpeg  \n",
            "  inflating: validation/tata_tiago_side/image_0_8693.jpeg  \n",
            "  inflating: validation/tata_tiago_side/image_0_8713.jpeg  \n",
            "  inflating: validation/tata_tiago_side/image_0_8741.jpeg  \n",
            "  inflating: validation/tata_tiago_side/image_0_8743.jpeg  \n",
            "  inflating: validation/tata_tiago_side/image_0_8748.jpeg  \n",
            "  inflating: validation/tata_tiago_side/image_0_8752.jpeg  \n",
            "  inflating: validation/tata_tiago_side/image_0_8758.jpeg  \n",
            "  inflating: validation/tata_tiago_side/image_0_8759.jpeg  \n",
            "  inflating: validation/tata_tiago_side/image_0_8765.jpeg  \n",
            "  inflating: validation/tata_tiago_side/image_0_8774.jpeg  \n",
            "  inflating: validation/tata_tiago_side/image_0_8779.jpeg  \n",
            "  inflating: validation/tata_tiago_side/image_0_8781.jpeg  \n",
            "  inflating: validation/tata_tiago_side/image_0_8820.jpeg  \n",
            "  inflating: validation/tata_tiago_side/image_0_8822.jpeg  \n",
            "  inflating: validation/tata_tiago_side/image_0_8826.jpeg  \n",
            "  inflating: validation/tata_tiago_side/image_0_8839.jpeg  \n",
            "  inflating: validation/tata_tiago_side/image_0_8858.jpeg  \n",
            "  inflating: validation/tata_tiago_side/image_0_8862.jpeg  \n",
            "  inflating: validation/tata_tiago_side/image_0_8867.jpeg  \n",
            "  inflating: validation/tata_tiago_side/image_0_8890.jpeg  \n",
            "  inflating: validation/tata_tiago_side/image_0_8894.jpeg  \n",
            "  inflating: validation/tata_tiago_side/image_0_8896.jpeg  \n",
            "  inflating: validation/tata_tiago_side/image_0_8925.jpeg  \n"
          ]
        }
      ]
    },
    {
      "cell_type": "code",
      "metadata": {
        "id": "sycMZU6uhDI1"
      },
      "source": [
        ""
      ],
      "execution_count": 8,
      "outputs": []
    },
    {
      "cell_type": "code",
      "metadata": {
        "colab": {
          "base_uri": "https://localhost:8080/"
        },
        "id": "-9VkBGztiQoF",
        "outputId": "503d5de9-a0f2-447f-a00b-aea251dab569"
      },
      "source": [
        "!pwd"
      ],
      "execution_count": 9,
      "outputs": [
        {
          "output_type": "stream",
          "name": "stdout",
          "text": [
            "/content\n"
          ]
        }
      ]
    },
    {
      "cell_type": "markdown",
      "metadata": {
        "id": "RQStHEumLDAi"
      },
      "source": [
        "**time to load data into collab. Here we will use image data generator class. this is because of the structure of our train, test and validation folder**"
      ]
    },
    {
      "cell_type": "markdown",
      "metadata": {
        "id": "lCEaEztpRfOs"
      },
      "source": [
        "**if you want more information on this class, then you should read this blog [link text](https://towardsdatascience.com/image-data-generators-in-keras-7c5fc6928400)**"
      ]
    },
    {
      "cell_type": "code",
      "metadata": {
        "colab": {
          "base_uri": "https://localhost:8080/"
        },
        "id": "LIEeMj6XPReM",
        "outputId": "41af70b1-f3c7-4291-bc1a-0e7f0dd58a00"
      },
      "source": [
        "batch_size=32\n",
        "trdata = ImageDataGenerator(zoom_range=0.3, rotation_range=50,preprocessing_function=preprocess_input,\n",
        "                                   width_shift_range=0.2, height_shift_range=0.2, #shear_range=0.2, \n",
        "                                   horizontal_flip=True, fill_mode='nearest')\n",
        "traindata = trdata.flow_from_directory(directory=\"train\",batch_size=batch_size,target_size=(224,224),class_mode='categorical')\n",
        "tsdata = ImageDataGenerator(preprocessing_function=preprocess_input)\n",
        "validdata = tsdata.flow_from_directory(directory=\"validation\",batch_size=batch_size, target_size=(224,224),class_mode='categorical')"
      ],
      "execution_count": 10,
      "outputs": [
        {
          "output_type": "stream",
          "name": "stdout",
          "text": [
            "Found 962 images belonging to 2 classes.\n",
            "Found 140 images belonging to 2 classes.\n"
          ]
        }
      ]
    },
    {
      "cell_type": "code",
      "metadata": {
        "id": "eQKZ7xgPegk_"
      },
      "source": [
        ""
      ],
      "execution_count": 10,
      "outputs": []
    },
    {
      "cell_type": "code",
      "metadata": {
        "id": "xJZTcGVWg97q"
      },
      "source": [
        ""
      ],
      "execution_count": 10,
      "outputs": []
    },
    {
      "cell_type": "markdown",
      "metadata": {
        "id": "qNK9z4H-SAO1"
      },
      "source": [
        "**its time to load vgg16 architecture on collab. Include false will not load fully connected layer. this will enable us to train the network for required number of class. for more information on this visit this site[link text](https://towardsdatascience.com/image-data-generators-in-keras-7c5fc6928400)**"
      ]
    },
    {
      "cell_type": "code",
      "metadata": {
        "id": "1-hewkPd6n_4",
        "colab": {
          "base_uri": "https://localhost:8080/"
        },
        "outputId": "15d00122-f575-4289-8a70-ba197f76cdc2"
      },
      "source": [
        "input_shape = (224, 224, 3)\n",
        "vgg = VGG16(include_top=False, weights='imagenet', \n",
        "                                     input_shape=input_shape)"
      ],
      "execution_count": 11,
      "outputs": [
        {
          "output_type": "stream",
          "name": "stdout",
          "text": [
            "Downloading data from https://storage.googleapis.com/tensorflow/keras-applications/vgg16/vgg16_weights_tf_dim_ordering_tf_kernels_notop.h5\n",
            "58892288/58889256 [==============================] - 1s 0us/step\n",
            "58900480/58889256 [==============================] - 1s 0us/step\n"
          ]
        }
      ]
    },
    {
      "cell_type": "markdown",
      "metadata": {
        "id": "xmE75RmXVavi"
      },
      "source": [
        "**lets see the structure of the VGG16, we can see that the fully connected layer is not present. this last layer has to be connected to the fully connected layer that we will design**"
      ]
    },
    {
      "cell_type": "code",
      "metadata": {
        "colab": {
          "base_uri": "https://localhost:8080/"
        },
        "id": "8rrQQyeX8jgf",
        "outputId": "0c84df22-fd0d-4997-b43d-9f02c34863e3"
      },
      "source": [
        "vgg.summary()   ##in case of confusion uncomment the code"
      ],
      "execution_count": 12,
      "outputs": [
        {
          "output_type": "stream",
          "name": "stdout",
          "text": [
            "Model: \"vgg16\"\n",
            "_________________________________________________________________\n",
            "Layer (type)                 Output Shape              Param #   \n",
            "=================================================================\n",
            "input_1 (InputLayer)         [(None, 224, 224, 3)]     0         \n",
            "_________________________________________________________________\n",
            "block1_conv1 (Conv2D)        (None, 224, 224, 64)      1792      \n",
            "_________________________________________________________________\n",
            "block1_conv2 (Conv2D)        (None, 224, 224, 64)      36928     \n",
            "_________________________________________________________________\n",
            "block1_pool (MaxPooling2D)   (None, 112, 112, 64)      0         \n",
            "_________________________________________________________________\n",
            "block2_conv1 (Conv2D)        (None, 112, 112, 128)     73856     \n",
            "_________________________________________________________________\n",
            "block2_conv2 (Conv2D)        (None, 112, 112, 128)     147584    \n",
            "_________________________________________________________________\n",
            "block2_pool (MaxPooling2D)   (None, 56, 56, 128)       0         \n",
            "_________________________________________________________________\n",
            "block3_conv1 (Conv2D)        (None, 56, 56, 256)       295168    \n",
            "_________________________________________________________________\n",
            "block3_conv2 (Conv2D)        (None, 56, 56, 256)       590080    \n",
            "_________________________________________________________________\n",
            "block3_conv3 (Conv2D)        (None, 56, 56, 256)       590080    \n",
            "_________________________________________________________________\n",
            "block3_pool (MaxPooling2D)   (None, 28, 28, 256)       0         \n",
            "_________________________________________________________________\n",
            "block4_conv1 (Conv2D)        (None, 28, 28, 512)       1180160   \n",
            "_________________________________________________________________\n",
            "block4_conv2 (Conv2D)        (None, 28, 28, 512)       2359808   \n",
            "_________________________________________________________________\n",
            "block4_conv3 (Conv2D)        (None, 28, 28, 512)       2359808   \n",
            "_________________________________________________________________\n",
            "block4_pool (MaxPooling2D)   (None, 14, 14, 512)       0         \n",
            "_________________________________________________________________\n",
            "block5_conv1 (Conv2D)        (None, 14, 14, 512)       2359808   \n",
            "_________________________________________________________________\n",
            "block5_conv2 (Conv2D)        (None, 14, 14, 512)       2359808   \n",
            "_________________________________________________________________\n",
            "block5_conv3 (Conv2D)        (None, 14, 14, 512)       2359808   \n",
            "_________________________________________________________________\n",
            "block5_pool (MaxPooling2D)   (None, 7, 7, 512)         0         \n",
            "=================================================================\n",
            "Total params: 14,714,688\n",
            "Trainable params: 14,714,688\n",
            "Non-trainable params: 0\n",
            "_________________________________________________________________\n"
          ]
        }
      ]
    },
    {
      "cell_type": "markdown",
      "metadata": {
        "id": "0KOzmV9bfXue"
      },
      "source": [
        "**lets flatten the last layer and connect it to our fully connected layer**"
      ]
    },
    {
      "cell_type": "code",
      "metadata": {
        "id": "ADXrgH2HGJ3n"
      },
      "source": [
        ""
      ],
      "execution_count": 15,
      "outputs": []
    },
    {
      "cell_type": "markdown",
      "metadata": {
        "id": "5aCyTgtxgaO_"
      },
      "source": [
        "**in this we will freeze all the layer so that weights of this layer dont change. we will also design the fully connected layer according to the number of classes we have.**"
      ]
    },
    {
      "cell_type": "code",
      "metadata": {
        "id": "vHW6C0yb7gFJ",
        "colab": {
          "base_uri": "https://localhost:8080/"
        },
        "outputId": "4ed90ed1-e92f-42fd-80ca-5a1ae00e424f"
      },
      "source": [
        "###for general model tuning\n",
        "\n",
        "output = vgg.layers[-1].output #taking output shape of the last layer i.e maxpool\n",
        "output = keras.layers.Flatten()(output) #flatening the last layer\n",
        "vgg_model = Model(vgg.input, output) #defining how the input and output are. input= first layer ,output=flaten last layer\n",
        "\n",
        "vgg_model.trainable = False  #ensuring that the weights dont change.\n",
        "for layer in vgg_model.layers: #making all layers trainable as false \n",
        "    layer.trainable = False\n",
        "input_shape = vgg_model.output_shape[1]\n",
        "model = Sequential()\n",
        "model.add(vgg_model)\n",
        "model.add(Dense(512, activation='relu', input_dim=input_shape))\n",
        "#model.add(Dropout(0.3))\n",
        "model.add(Dense(512, activation='relu'))\n",
        "#model.add(Dropout(0.3))\n",
        "model.add(Dense(2, activation='softmax'))\n",
        "\n",
        "#model.compile(loss='binary_crossentropy',\n",
        "#              optimizer=optimizers.RMSprop(learning_rate=1e-4),\n",
        "#              metrics=['accuracy'])\n",
        "#\n",
        "model.summary()"
      ],
      "execution_count": 16,
      "outputs": [
        {
          "output_type": "stream",
          "name": "stdout",
          "text": [
            "Model: \"sequential_1\"\n",
            "_________________________________________________________________\n",
            "Layer (type)                 Output Shape              Param #   \n",
            "=================================================================\n",
            "model_2 (Functional)         (None, 25088)             14714688  \n",
            "_________________________________________________________________\n",
            "dense_3 (Dense)              (None, 512)               12845568  \n",
            "_________________________________________________________________\n",
            "dense_4 (Dense)              (None, 512)               262656    \n",
            "_________________________________________________________________\n",
            "dense_5 (Dense)              (None, 2)                 1026      \n",
            "=================================================================\n",
            "Total params: 27,823,938\n",
            "Trainable params: 13,109,250\n",
            "Non-trainable params: 14,714,688\n",
            "_________________________________________________________________\n"
          ]
        }
      ]
    },
    {
      "cell_type": "markdown",
      "metadata": {
        "id": "Zu9WLHFdicWm"
      },
      "source": [
        "**the code below is for stopping the training if there is no imporvement in the model performance** "
      ]
    },
    {
      "cell_type": "code",
      "metadata": {
        "id": "wbS9oSoQs3hP"
      },
      "source": [
        "custom_early_stopping = EarlyStopping(\n",
        "    monitor='accuracy', \n",
        "    patience=3,  \n",
        "    mode='max',restore_best_weights = True\n",
        ")"
      ],
      "execution_count": 17,
      "outputs": []
    },
    {
      "cell_type": "code",
      "metadata": {
        "id": "iysV4xhzdNLi"
      },
      "source": [
        "batch_size=32"
      ],
      "execution_count": 18,
      "outputs": []
    },
    {
      "cell_type": "markdown",
      "metadata": {
        "id": "WbI-6OBvlOAs"
      },
      "source": [
        "**the code below will train the model**"
      ]
    },
    {
      "cell_type": "code",
      "metadata": {
        "colab": {
          "base_uri": "https://localhost:8080/"
        },
        "id": "sOTVsEu3FZ5U",
        "outputId": "d6d40337-4b43-4ada-bf7c-ba48818a841e"
      },
      "source": [
        "model.compile(loss='categorical_crossentropy',\n",
        "              #optimizer=optimizers.RMSprop(learning_rate=0.001),\n",
        "              optimizer='Adam',\n",
        "              metrics=['accuracy'])\n",
        "history = model.fit_generator(\n",
        "      traindata,\n",
        "      steps_per_epoch=math.ceil(traindata.samples//batch_size),\n",
        "      epochs=9,\n",
        "      verbose=1,\n",
        "      validation_data = validdata,\n",
        "      validation_steps=math.ceil(validdata.samples//batch_size))"
      ],
      "execution_count": 17,
      "outputs": [
        {
          "output_type": "stream",
          "name": "stderr",
          "text": [
            "/usr/local/lib/python3.7/dist-packages/keras/engine/training.py:1972: UserWarning: `Model.fit_generator` is deprecated and will be removed in a future version. Please use `Model.fit`, which supports generators.\n",
            "  warnings.warn('`Model.fit_generator` is deprecated and '\n"
          ]
        },
        {
          "output_type": "stream",
          "name": "stdout",
          "text": [
            "Epoch 1/9\n",
            "30/30 [==============================] - 53s 553ms/step - loss: 4.0049 - accuracy: 0.9247 - val_loss: 0.8476 - val_accuracy: 0.9922\n",
            "Epoch 2/9\n",
            "30/30 [==============================] - 15s 507ms/step - loss: 0.5096 - accuracy: 0.9882 - val_loss: 0.3670 - val_accuracy: 0.9922\n",
            "Epoch 3/9\n",
            "30/30 [==============================] - 15s 507ms/step - loss: 0.0810 - accuracy: 0.9946 - val_loss: 0.2153 - val_accuracy: 0.9922\n",
            "Epoch 4/9\n",
            "30/30 [==============================] - 15s 506ms/step - loss: 0.2268 - accuracy: 0.9925 - val_loss: 0.0000e+00 - val_accuracy: 1.0000\n",
            "Epoch 5/9\n",
            "30/30 [==============================] - 15s 509ms/step - loss: 0.2389 - accuracy: 0.9914 - val_loss: 0.0409 - val_accuracy: 0.9922\n",
            "Epoch 6/9\n",
            "30/30 [==============================] - 15s 508ms/step - loss: 0.1749 - accuracy: 0.9935 - val_loss: 0.0000e+00 - val_accuracy: 1.0000\n",
            "Epoch 7/9\n",
            "30/30 [==============================] - 15s 506ms/step - loss: 0.0695 - accuracy: 0.9978 - val_loss: 0.0000e+00 - val_accuracy: 1.0000\n",
            "Epoch 8/9\n",
            "30/30 [==============================] - 15s 509ms/step - loss: 0.0035 - accuracy: 0.9989 - val_loss: 0.2173 - val_accuracy: 0.9922\n",
            "Epoch 9/9\n",
            "30/30 [==============================] - 15s 508ms/step - loss: 0.2357 - accuracy: 0.9892 - val_loss: 0.2840 - val_accuracy: 0.9922\n"
          ]
        }
      ]
    },
    {
      "cell_type": "markdown",
      "metadata": {
        "id": "FfL3LipIpEkk"
      },
      "source": [
        "**lets plot accuracy and loss to see how good our model is**\n",
        "\n",
        "\n"
      ]
    },
    {
      "cell_type": "code",
      "metadata": {
        "colab": {
          "base_uri": "https://localhost:8080/",
          "height": 516
        },
        "id": "G_AvlfBntUo-",
        "outputId": "6139bb90-d9e5-4404-9247-181e0b78bb65"
      },
      "source": [
        "acc = history.history['accuracy']\n",
        "val_acc = history.history['val_accuracy']\n",
        "\n",
        "loss = history.history['loss']\n",
        "val_loss = history.history['val_loss']\n",
        "plt.figure(figsize=(8, 8))\n",
        "plt.subplot(1, 1, 1)\n",
        "plt.plot(acc, label='Training Accuracy')\n",
        "plt.plot(val_acc, label='Validation Accuracy')\n",
        "plt.legend(loc='lower right')\n",
        "plt.ylabel('Accuracy')\n",
        "plt.ylim([min(plt.ylim()),1])\n",
        "plt.title('Training and Validation Accuracy')"
      ],
      "execution_count": 18,
      "outputs": [
        {
          "output_type": "execute_result",
          "data": {
            "text/plain": [
              "Text(0.5, 1.0, 'Training and Validation Accuracy')"
            ]
          },
          "metadata": {},
          "execution_count": 18
        },
        {
          "output_type": "display_data",
          "data": {
            "image/png": "[encoded data removed]",
            "text/plain": [
              "<Figure size 576x576 with 1 Axes>"
            ]
          },
          "metadata": {
            "needs_background": "light"
          }
        }
      ]
    },
    {
      "cell_type": "code",
      "metadata": {
        "colab": {
          "base_uri": "https://localhost:8080/",
          "height": 377
        },
        "id": "58ucArTHg-vS",
        "outputId": "93da11c0-cf57-474d-eb0e-dcd3702a78b9"
      },
      "source": [
        "plt.figure(figsize=(9, 12))\n",
        "plt.subplot(2, 1, 1)\n",
        "plt.plot(loss, label='Train Loss')\n",
        "plt.plot(val_loss, label='Validation loss')\n",
        "plt.legend(loc='upper right')\n",
        "plt.ylabel('Loss')\n",
        "\n",
        "plt.title('Training and Validation Loss')"
      ],
      "execution_count": 19,
      "outputs": [
        {
          "output_type": "execute_result",
          "data": {
            "text/plain": [
              "Text(0.5, 1.0, 'Training and Validation Loss')"
            ]
          },
          "metadata": {},
          "execution_count": 19
        },
        {
          "output_type": "display_data",
          "data": {
            "image/png": "[encoded data removed]",
            "text/plain": [
              "<Figure size 648x864 with 1 Axes>"
            ]
          },
          "metadata": {
            "needs_background": "light"
          }
        }
      ]
    },
    {
      "cell_type": "markdown",
      "metadata": {
        "id": "-a0-KertrYaX"
      },
      "source": [
        "**Evaluate baseline test accuracy and save the model for later usage.**"
      ]
    },
    {
      "cell_type": "code",
      "metadata": {
        "colab": {
          "base_uri": "https://localhost:8080/"
        },
        "id": "e02K2DQabssA",
        "outputId": "fa2d2395-e40c-4fe4-f21a-68a0e80a2fc1"
      },
      "source": [
        "# Store file \n",
        "import tempfile\n",
        "_, baseline_model_accuracy = model.evaluate_generator(\n",
        "    validdata, verbose=0)\n",
        "\n",
        "print('Baseline test accuracy:', baseline_model_accuracy)\n",
        "_, keras_file = tempfile.mkstemp('.h5')\n",
        "tf.keras.models.save_model(model, keras_file, include_optimizer=False)\n",
        "print(f'Baseline model saved: {keras_file}')"
      ],
      "execution_count": 20,
      "outputs": [
        {
          "output_type": "stream",
          "name": "stderr",
          "text": [
            "/usr/local/lib/python3.7/dist-packages/keras/engine/training.py:2006: UserWarning: `Model.evaluate_generator` is deprecated and will be removed in a future version. Please use `Model.evaluate`, which supports generators.\n",
            "  warnings.warn('`Model.evaluate_generator` is deprecated and '\n"
          ]
        },
        {
          "output_type": "stream",
          "name": "stdout",
          "text": [
            "Baseline test accuracy: 0.9928571581840515\n",
            "Baseline model saved: /tmp/tmp7e7qo_lo.h5\n"
          ]
        }
      ]
    },
    {
      "cell_type": "markdown",
      "metadata": {
        "id": "XHzc5TWFrs9g"
      },
      "source": [
        "**We will apply pruning to the whole model and see this in the model summary.**\n",
        "\n",
        "**here, we will start the model with 30% sparsity (30% zeros in weights) and end with 40% sparsity. you can increase sparsity according to our needs**"
      ]
    },
    {
      "cell_type": "code",
      "metadata": {
        "id": "gv18ILWOWzee"
      },
      "source": [
        "# Load functionality for adding pruning wrappers\n",
        "prune_low_magnitude = tfmot.sparsity.keras.prune_low_magnitude"
      ],
      "execution_count": 21,
      "outputs": []
    },
    {
      "cell_type": "code",
      "metadata": {
        "colab": {
          "base_uri": "https://localhost:8080/"
        },
        "id": "0pcbl4oPW46X",
        "outputId": "7e11d6aa-c80f-4d38-f310-83b35e709a60"
      },
      "source": [
        "# Finish pruning after 5 epochs\n",
        "validation_split = 0.2\n",
        "num_images = 10500\n",
        "pruning_epochs=3\n",
        "end_step = np.ceil(num_images / batch_size).astype(np.int32) * pruning_epochs\n",
        "\n",
        "# Define pruning configuration\n",
        "pruning_params = {\n",
        "      'pruning_schedule': tfmot.sparsity.keras.PolynomialDecay(initial_sparsity=0.30,\n",
        "                                                               final_sparsity=0.40,\n",
        "                                                               begin_step=0,\n",
        "                                                               end_step=end_step)\n",
        "}\n",
        "model_for_pruning = prune_low_magnitude(model, **pruning_params)"
      ],
      "execution_count": 23,
      "outputs": [
        {
          "output_type": "stream",
          "name": "stderr",
          "text": [
            "/usr/local/lib/python3.7/dist-packages/keras/engine/base_layer.py:2223: UserWarning: `layer.add_variable` is deprecated and will be removed in a future version. Please use `layer.add_weight` method instead.\n",
            "  warnings.warn('`layer.add_variable` is deprecated and '\n"
          ]
        }
      ]
    },
    {
      "cell_type": "markdown",
      "metadata": {
        "id": "s0Ia1niYtcYf"
      },
      "source": [
        "**Fine tune with pruning for two epochs.**\n",
        "\n",
        "*   tfmot.sparsity.keras.UpdatePruningStep is required during training\n",
        "*   tfmot.sparsity.keras.PruningSummaries provides logs for tracking progress  and debugging.\n",
        "\n",
        "\n",
        "\n"
      ]
    },
    {
      "cell_type": "code",
      "metadata": {
        "colab": {
          "base_uri": "https://localhost:8080/"
        },
        "id": "TYOB7V_SbKR1",
        "outputId": "c93d7d6a-2bec-4907-e12e-7d057b77514f"
      },
      "source": [
        "# Recompile the model\n",
        "model_for_pruning.compile(loss='categorical_crossentropy',\n",
        "              optimizer='Adam',\n",
        "              metrics=['accuracy'])\n",
        "logdir = tempfile.mkdtemp()\n",
        "# Model callbacks\n",
        "callbacks = [\n",
        "  tfmot.sparsity.keras.UpdatePruningStep(),\n",
        "  tfmot.sparsity.keras.PruningSummaries(log_dir=logdir),\n",
        "]\n",
        "\n",
        "# Fitting data\n",
        "model_for_pruning.fit(traindata,\n",
        "                      batch_size=32,\n",
        "                      epochs=pruning_epochs,\n",
        "                      verbose=1,\n",
        "                      validation_data=validdata,\n",
        "                      callbacks=callbacks)"
      ],
      "execution_count": 24,
      "outputs": [
        {
          "output_type": "stream",
          "name": "stdout",
          "text": [
            "Epoch 1/3\n",
            "31/31 [==============================] - 26s 557ms/step - loss: 0.3836 - accuracy: 0.9917 - val_loss: 0.0000e+00 - val_accuracy: 1.0000\n",
            "Epoch 2/3\n",
            "31/31 [==============================] - 16s 518ms/step - loss: 0.3644 - accuracy: 0.9917 - val_loss: 0.0000e+00 - val_accuracy: 1.0000\n",
            "Epoch 3/3\n",
            "31/31 [==============================] - 16s 521ms/step - loss: 0.0890 - accuracy: 0.9958 - val_loss: 0.0000e+00 - val_accuracy: 1.0000\n"
          ]
        },
        {
          "output_type": "execute_result",
          "data": {
            "text/plain": [
              "<keras.callbacks.History at 0x7fbb7a65a910>"
            ]
          },
          "metadata": {},
          "execution_count": 24
        }
      ]
    },
    {
      "cell_type": "markdown",
      "metadata": {
        "id": "Nyf04DnYt_LQ"
      },
      "source": [
        "**let's compare model accuracy after prunning with baseline model accuracy.** ****\n",
        "**we can see that there is not much difference**"
      ]
    },
    {
      "cell_type": "code",
      "metadata": {
        "colab": {
          "base_uri": "https://localhost:8080/"
        },
        "id": "8aPRvAhQ5Dgw",
        "outputId": "bda2ea35-0d5a-4105-f77d-7168f59a280d"
      },
      "source": [
        "_, model_for_pruning_accuracy = model_for_pruning.evaluate(\n",
        "   validdata, verbose=0)\n",
        "\n",
        "print('Baseline test accuracy:', baseline_model_accuracy) \n",
        "print('Pruned test accuracy:', model_for_pruning_accuracy)"
      ],
      "execution_count": 25,
      "outputs": [
        {
          "output_type": "stream",
          "name": "stdout",
          "text": [
            "Baseline test accuracy: 0.9928571581840515\n",
            "Pruned test accuracy: 1.0\n"
          ]
        }
      ]
    },
    {
      "cell_type": "markdown",
      "metadata": {
        "id": "oUXOKcYf3z3o"
      },
      "source": [
        "**tfmot.sparsity.keras.strip_pruning and applying a standard compression algorithm (e.g. via gzip) are necessary to see the compression benefits of pruning.**\n",
        "\n",
        "*   strip_pruning is necessary since it removes every tf.Variable that pruning only needs during training, which would otherwise add to model size during inference\n",
        "*   Applying a standard compression algorithm is necessary since the serialized weight matrices are the same size as they were before pruning. However, pruning makes most of the weights zeros, which is added redundancy that algorithms can utilize to further compress the model.\n",
        "\n"
      ]
    },
    {
      "cell_type": "code",
      "metadata": {
        "id": "Y-RU84kfv9QZ"
      },
      "source": [
        "import tempfile\n",
        "model_for_export = tfmot.sparsity.keras.strip_pruning(model_for_pruning)\n",
        "_, pruned_keras_file = tempfile.mkstemp('.h5')\n",
        "tf.keras.models.save_model(model_for_pruning, pruned_keras_file, include_optimizer=False)"
      ],
      "execution_count": 26,
      "outputs": []
    },
    {
      "cell_type": "code",
      "metadata": {
        "colab": {
          "base_uri": "https://localhost:8080/"
        },
        "id": "hT4IqPNr8gJT",
        "outputId": "b6bb5d07-12a5-4174-fb21-2d39a228f6e3"
      },
      "source": [
        "converter = tf.lite.TFLiteConverter.from_keras_model(model_for_export)\n",
        "pruned_tflite_model = converter.convert()\n",
        "\n",
        "_, pruned_tflite_file = tempfile.mkstemp('.tflite')\n",
        "\n",
        "with open(pruned_tflite_file, 'wb') as f:\n",
        "  f.write(pruned_tflite_model)\n",
        "\n",
        "print('Saved pruned TFLite model to:', pruned_tflite_file)"
      ],
      "execution_count": 27,
      "outputs": [
        {
          "output_type": "stream",
          "name": "stdout",
          "text": [
            "WARNING:tensorflow:Compiled the loaded model, but the compiled metrics have yet to be built. `model.compile_metrics` will be empty until you train or evaluate the model.\n",
            "INFO:tensorflow:Assets written to: /tmp/tmp2ii3a865/assets\n",
            "Saved pruned TFLite model to: /tmp/tmpcenly4ji.tflite\n"
          ]
        }
      ]
    },
    {
      "cell_type": "code",
      "metadata": {
        "id": "WcF22DT5wdna"
      },
      "source": [
        "def get_gzipped_model_size(file):\n",
        "  # Returns size of gzipped model, in bytes.\n",
        "  import os\n",
        "  import zipfile\n",
        "\n",
        "  _, zipped_file = tempfile.mkstemp('.zip')\n",
        "  with zipfile.ZipFile(zipped_file, 'w', compression=zipfile.ZIP_DEFLATED) as f:\n",
        "    f.write(file)\n",
        "\n",
        "  return os.path.getsize(zipped_file)"
      ],
      "execution_count": 28,
      "outputs": []
    },
    {
      "cell_type": "markdown",
      "metadata": {
        "id": "lek3CJ614fka"
      },
      "source": [
        "**Compare and see how the model size has decreased.**"
      ]
    },
    {
      "cell_type": "code",
      "metadata": {
        "colab": {
          "base_uri": "https://localhost:8080/"
        },
        "id": "1Zx4PBvJ8vEM",
        "outputId": "2aa3397a-3d61-4849-c538-571a31f4589d"
      },
      "source": [
        "print(\"Size of gzipped baseline Keras model: %.2f bytes\" % (get_gzipped_model_size(keras_file)))\n",
        "print(\"Size of gzipped pruned Keras model: %.2f bytes\" % (get_gzipped_model_size(pruned_keras_file)))\n",
        "print(\"Size of gzipped pruned TFlite model: %.2f bytes\" % (get_gzipped_model_size(pruned_tflite_file)))"
      ],
      "execution_count": 29,
      "outputs": [
        {
          "output_type": "stream",
          "name": "stdout",
          "text": [
            "Size of gzipped baseline Keras model: 103238876.00 bytes\n",
            "Size of gzipped pruned Keras model: 103379615.00 bytes\n",
            "Size of gzipped pruned TFlite model: 103224512.00 bytes\n"
          ]
        }
      ]
    },
    {
      "cell_type": "code",
      "metadata": {
        "colab": {
          "base_uri": "https://localhost:8080/"
        },
        "id": "BkTYWzaCwm9C",
        "outputId": "bcb0a5d5-72b2-49e7-aab8-10cdeac10518"
      },
      "source": [
        "print(\"Size of gzipped pruned Keras model: %.2f bytes\" % (get_gzipped_model_size(pruned_keras_file)))"
      ],
      "execution_count": null,
      "outputs": [
        {
          "output_type": "stream",
          "text": [
            "Size of gzipped pruned Keras model: 48839882.00 bytes\n"
          ],
          "name": "stdout"
        }
      ]
    },
    {
      "cell_type": "markdown",
      "metadata": {
        "id": "CiB0C_ZB4uU7"
      },
      "source": [
        "**lets see the name and place where the model has been stored**"
      ]
    },
    {
      "cell_type": "code",
      "metadata": {
        "colab": {
          "base_uri": "https://localhost:8080/",
          "height": 35
        },
        "id": "pvyz-3ufyYbL",
        "outputId": "d353c87f-8f8f-4898-85ae-26423312fc19"
      },
      "source": [
        "pruned_tflite_file"
      ],
      "execution_count": 30,
      "outputs": [
        {
          "output_type": "execute_result",
          "data": {
            "application/vnd.google.colaboratory.intrinsic+json": {
              "type": "string"
            },
            "text/plain": [
              "'/tmp/tmpcenly4ji.tflite'"
            ]
          },
          "metadata": {},
          "execution_count": 30
        }
      ]
    },
    {
      "cell_type": "markdown",
      "metadata": {
        "id": "vxwacpjR46qN"
      },
      "source": [
        "**we can further reduce the size of the model by employing the meathod of quantization. lets see how its done**"
      ]
    },
    {
      "cell_type": "code",
      "metadata": {
        "colab": {
          "base_uri": "https://localhost:8080/"
        },
        "id": "qtbiTleo9iUQ",
        "outputId": "f33d5b9f-57d1-4e96-fa1f-769bd8fbed8d"
      },
      "source": [
        "converter = tf.lite.TFLiteConverter.from_keras_model(model_for_export)\n",
        "converter.optimizations = [tf.lite.Optimize.DEFAULT]\n",
        "quantized_and_pruned_tflite_model = converter.convert()\n",
        "\n",
        "_, quantized_and_pruned_tflite_file = tempfile.mkstemp('.tflite')\n",
        "\n",
        "with open(quantized_and_pruned_tflite_file, 'wb') as f:\n",
        "  f.write(quantized_and_pruned_tflite_model)\n",
        "\n",
        "print('Saved quantized and pruned TFLite model to:', quantized_and_pruned_tflite_file)\n",
        "\n",
        "print(\"Size of gzipped baseline Keras model: %.2f bytes\" % (get_gzipped_model_size(keras_file)))\n",
        "print(\"Size of gzipped pruned and quantized TFlite model: %.2f bytes\" % (get_gzipped_model_size(quantized_and_pruned_tflite_file)))"
      ],
      "execution_count": 31,
      "outputs": [
        {
          "output_type": "stream",
          "name": "stdout",
          "text": [
            "WARNING:tensorflow:Compiled the loaded model, but the compiled metrics have yet to be built. `model.compile_metrics` will be empty until you train or evaluate the model.\n"
          ]
        },
        {
          "output_type": "stream",
          "name": "stderr",
          "text": [
            "WARNING:tensorflow:Compiled the loaded model, but the compiled metrics have yet to be built. `model.compile_metrics` will be empty until you train or evaluate the model.\n"
          ]
        },
        {
          "output_type": "stream",
          "name": "stdout",
          "text": [
            "INFO:tensorflow:Assets written to: /tmp/tmpikuqdcrd/assets\n"
          ]
        },
        {
          "output_type": "stream",
          "name": "stderr",
          "text": [
            "INFO:tensorflow:Assets written to: /tmp/tmpikuqdcrd/assets\n"
          ]
        },
        {
          "output_type": "stream",
          "name": "stdout",
          "text": [
            "Saved quantized and pruned TFLite model to: /tmp/tmp8ofz76y0.tflite\n",
            "Size of gzipped baseline Keras model: 103238876.00 bytes\n",
            "Size of gzipped pruned and quantized TFlite model: 22771448.00 bytes\n"
          ]
        }
      ]
    },
    {
      "cell_type": "markdown",
      "metadata": {
        "id": "u-aVcM_05_l6"
      },
      "source": [
        "**lets see the name of quantized model and place where it is stored**"
      ]
    },
    {
      "cell_type": "markdown",
      "metadata": {
        "id": "5s4dQvVj6xX1"
      },
      "source": [
        "**lets see the size of the quantized model now**"
      ]
    },
    {
      "cell_type": "code",
      "metadata": {
        "colab": {
          "base_uri": "https://localhost:8080/"
        },
        "id": "yqNt2tWiYUrK",
        "outputId": "7c2e8c82-73c2-42b4-d0c9-1c0576e699b0"
      },
      "source": [
        "# Save quantized model\n",
        "_, quantized_and_pruned_tflite_file = tempfile.mkstemp('.tflite')\n",
        "tflite_model = converter.convert()\n",
        "with open(quantized_and_pruned_tflite_file, 'wb') as f:\n",
        "  f.write(tflite_model)\n",
        "  \n",
        "# Additional details\n",
        "print(\"Size of gzipped pruned and quantized TFlite model: %.2f bytes\" % (get_gzipped_model_size(quantized_and_pruned_tflite_file)))\n"
      ],
      "execution_count": 45,
      "outputs": [
        {
          "output_type": "stream",
          "name": "stdout",
          "text": [
            "WARNING:tensorflow:Compiled the loaded model, but the compiled metrics have yet to be built. `model.compile_metrics` will be empty until you train or evaluate the model.\n"
          ]
        },
        {
          "output_type": "stream",
          "name": "stderr",
          "text": [
            "WARNING:tensorflow:Compiled the loaded model, but the compiled metrics have yet to be built. `model.compile_metrics` will be empty until you train or evaluate the model.\n"
          ]
        },
        {
          "output_type": "stream",
          "name": "stdout",
          "text": [
            "INFO:tensorflow:Assets written to: /tmp/tmply2j49ez/assets\n"
          ]
        },
        {
          "output_type": "stream",
          "name": "stderr",
          "text": [
            "INFO:tensorflow:Assets written to: /tmp/tmply2j49ez/assets\n"
          ]
        },
        {
          "output_type": "stream",
          "name": "stdout",
          "text": [
            "Size of gzipped pruned and quantized TFlite model: 22771448.00 bytes\n"
          ]
        }
      ]
    },
    {
      "cell_type": "markdown",
      "metadata": {
        "id": "bcYU2egC7J5-"
      },
      "source": [
        "**here we will change current location to the place where the model is stored..so that we can load the model and make inference from it**"
      ]
    },
    {
      "cell_type": "code",
      "metadata": {
        "id": "QeutlVlU6kip",
        "colab": {
          "base_uri": "https://localhost:8080/"
        },
        "outputId": "5ceb04e0-1c35-4c70-9ecf-261590135392"
      },
      "source": [
        "%cd /tmp"
      ],
      "execution_count": 46,
      "outputs": [
        {
          "output_type": "stream",
          "name": "stdout",
          "text": [
            "/tmp\n"
          ]
        }
      ]
    },
    {
      "cell_type": "markdown",
      "metadata": {
        "id": "yd-E4q9v7yKD"
      },
      "source": [
        "**loading the model**"
      ]
    },
    {
      "cell_type": "markdown",
      "metadata": {
        "id": "uKlyTpT6-hBg"
      },
      "source": [
        "**making inference from tflite model involves a few steps such as building the interpreter, and allocating tensors, as described in the following sections.**"
      ]
    },
    {
      "cell_type": "code",
      "metadata": {
        "colab": {
          "base_uri": "https://localhost:8080/",
          "height": 35
        },
        "id": "j-xvhoR_9ywb",
        "outputId": "46ec4739-bdae-4f77-8397-398630b0bcb1"
      },
      "source": [
        "quantized_and_pruned_tflite_file"
      ],
      "execution_count": 49,
      "outputs": [
        {
          "output_type": "execute_result",
          "data": {
            "application/vnd.google.colaboratory.intrinsic+json": {
              "type": "string"
            },
            "text/plain": [
              "'/tmp/tmp2d5cska_.tflite'"
            ]
          },
          "metadata": {},
          "execution_count": 49
        }
      ]
    },
    {
      "cell_type": "code",
      "metadata": {
        "id": "z2xYZB6pfeEO"
      },
      "source": [
        "interpreter = tf.lite.Interpreter(model_path=\"/tmp/tmp2d5cska_.tflite\")"
      ],
      "execution_count": 50,
      "outputs": []
    },
    {
      "cell_type": "code",
      "metadata": {
        "id": "2AdAI7TSin9X"
      },
      "source": [
        "interpreter.allocate_tensors()"
      ],
      "execution_count": 51,
      "outputs": []
    },
    {
      "cell_type": "code",
      "metadata": {
        "colab": {
          "base_uri": "https://localhost:8080/"
        },
        "id": "8BLMy5Kbittr",
        "outputId": "e11d4e93-5a12-4b46-c5bc-2802a62756d0"
      },
      "source": [
        "input_details = interpreter.get_input_details()\n",
        "output_details = interpreter.get_output_details()\n",
        "input_shape = input_details[0]['shape']\n",
        "input_shape"
      ],
      "execution_count": 52,
      "outputs": [
        {
          "output_type": "execute_result",
          "data": {
            "text/plain": [
              "array([  1, 224, 224,   3], dtype=int32)"
            ]
          },
          "metadata": {},
          "execution_count": 52
        }
      ]
    },
    {
      "cell_type": "markdown",
      "metadata": {
        "id": "NS7WTnpB-wvm"
      },
      "source": [
        "**below code will tell us about the kind of input tflite model is expecting for giving inference**"
      ]
    },
    {
      "cell_type": "code",
      "metadata": {
        "colab": {
          "base_uri": "https://localhost:8080/"
        },
        "id": "w6ngOP4Tw6mj",
        "outputId": "6dc6db9c-bca1-486e-b348-3ff062d77bea"
      },
      "source": [
        "input_details"
      ],
      "execution_count": 53,
      "outputs": [
        {
          "output_type": "execute_result",
          "data": {
            "text/plain": [
              "[{'dtype': numpy.float32,\n",
              "  'index': 0,\n",
              "  'name': 'model_2_input',\n",
              "  'quantization': (0.0, 0),\n",
              "  'quantization_parameters': {'quantized_dimension': 0,\n",
              "   'scales': array([], dtype=float32),\n",
              "   'zero_points': array([], dtype=int32)},\n",
              "  'shape': array([  1, 224, 224,   3], dtype=int32),\n",
              "  'shape_signature': array([ -1, 224, 224,   3], dtype=int32),\n",
              "  'sparsity_parameters': {}}]"
            ]
          },
          "metadata": {},
          "execution_count": 53
        }
      ]
    },
    {
      "cell_type": "code",
      "metadata": {
        "colab": {
          "base_uri": "https://localhost:8080/"
        },
        "id": "iwgpcWJrf3Tq",
        "outputId": "9940dc8f-d594-4cfd-a81b-655c5bc600ba"
      },
      "source": [
        "%cd /content/"
      ],
      "execution_count": 54,
      "outputs": [
        {
          "output_type": "stream",
          "name": "stdout",
          "text": [
            "/content\n"
          ]
        }
      ]
    },
    {
      "cell_type": "code",
      "metadata": {
        "colab": {
          "resources": {
            "http://localhost:8080/nbextensions/google.colab/files.js": {
              "data": "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",
              "ok": true,
              "headers": [
                [
                  "content-type",
                  "application/javascript"
                ]
              ],
              "status": 200,
              "status_text": ""
            }
          },
          "base_uri": "https://localhost:8080/",
          "height": 325
        },
        "id": "qoUuLmE-tds1",
        "outputId": "296a1624-40cf-4198-cb2d-4351dcd7deac"
      },
      "source": [
        "%matplotlib inline\n",
        "import matplotlib.pyplot as plt\n",
        "import numpy as np\n",
        "from google.colab import files\n",
        "from keras.preprocessing import image\n",
        "\n",
        "uploaded = files.upload()\n",
        "\n",
        "for fn in uploaded.keys():\n",
        " \n",
        "  # predicting images\n",
        "  path = '/content/' + fn\n",
        "  img = image.load_img(path, target_size=(224, 224))\n",
        "  img = np.asarray(img,dtype=np.float32)\n",
        "  plt.imshow(img)\n",
        "  img = np.expand_dims(img, axis=0)"
      ],
      "execution_count": 63,
      "outputs": [
        {
          "output_type": "display_data",
          "data": {
            "text/html": [
              "\n",
              "     <input type=\"file\" id=\"files-908d6403-0d88-4a29-b8ba-6c15888ddcb0\" name=\"files[]\" multiple disabled\n",
              "        style=\"border:none\" />\n",
              "     <output id=\"result-908d6403-0d88-4a29-b8ba-6c15888ddcb0\">\n",
              "      Upload widget is only available when the cell has been executed in the\n",
              "      current browser session. Please rerun this cell to enable.\n",
              "      </output>\n",
              "      <script src=\"/nbextensions/google.colab/files.js\"></script> "
            ],
            "text/plain": [
              "<IPython.core.display.HTML object>"
            ]
          },
          "metadata": {}
        },
        {
          "output_type": "stream",
          "name": "stdout",
          "text": [
            "Saving PLANE1.jpg to PLANE1 (1).jpg\n"
          ]
        },
        {
          "output_type": "display_data",
          "data": {
            "image/png": "[encoded data removed]",
            "text/plain": [
              "<Figure size 432x288 with 1 Axes>"
            ]
          },
          "metadata": {
            "needs_background": "light"
          }
        }
      ]
    },
    {
      "cell_type": "code",
      "metadata": {
        "colab": {
          "base_uri": "https://localhost:8080/"
        },
        "id": "uscU4ivqi8bD",
        "outputId": "53247fdf-3815-40af-ed24-dc3707eff793"
      },
      "source": [
        "img.shape\n"
      ],
      "execution_count": 56,
      "outputs": [
        {
          "output_type": "execute_result",
          "data": {
            "text/plain": [
              "(1, 224, 224, 3)"
            ]
          },
          "metadata": {},
          "execution_count": 56
        }
      ]
    },
    {
      "cell_type": "markdown",
      "metadata": {
        "id": "UxR35XU5AMXW"
      },
      "source": [
        "**below code is for testing the model**"
      ]
    },
    {
      "cell_type": "code",
      "metadata": {
        "id": "gd4GEr7vjGAU"
      },
      "source": [
        "interpreter.set_tensor(input_details[0]['index'],img )"
      ],
      "execution_count": 57,
      "outputs": []
    },
    {
      "cell_type": "code",
      "metadata": {
        "id": "vKwaA-OZki4v"
      },
      "source": [
        "\n",
        "interpreter.invoke()"
      ],
      "execution_count": 58,
      "outputs": []
    },
    {
      "cell_type": "code",
      "metadata": {
        "colab": {
          "base_uri": "https://localhost:8080/"
        },
        "id": "GmWglSrT_xhu",
        "outputId": "ae7989be-65b0-427e-fd04-ad395809b709"
      },
      "source": [
        "output_data = interpreter.get_tensor(output_details[0]['index'])\n",
        "print(output_data)"
      ],
      "execution_count": 59,
      "outputs": [
        {
          "output_type": "stream",
          "name": "stdout",
          "text": [
            "[[1. 0.]]\n"
          ]
        }
      ]
    },
    {
      "cell_type": "code",
      "metadata": {
        "colab": {
          "base_uri": "https://localhost:8080/"
        },
        "id": "tr_UsfTRFgtu",
        "outputId": "a923e923-2803-4ca7-bfe1-f07fff85ec2f"
      },
      "source": [
        "a=output_data[0]\n",
        "\n",
        "pos=np.argmax(a)\n",
        "\n",
        "if pos==0:\n",
        "  print(\"plane\")\n",
        "elif pos==1:\n",
        "  print(\"car\")\n"
      ],
      "execution_count": 62,
      "outputs": [
        {
          "output_type": "stream",
          "name": "stdout",
          "text": [
            "plane\n"
          ]
        }
      ]
    },
    {
      "cell_type": "code",
      "metadata": {
        "id": "hCzBpLlGvS1F"
      },
      "source": [
        ""
      ],
      "execution_count": null,
      "outputs": []
    },
    {
      "cell_type": "markdown",
      "metadata": {
        "id": "m5KutKanv8hA"
      },
      "source": [
        "**I Am Still Working On Improving Latency During Inference**\n",
        "**expect Update on this soon**"
      ]
    },
    {
      "cell_type": "code",
      "metadata": {
        "id": "3z88A4QQwJdx"
      },
      "source": [
        ""
      ],
      "execution_count": null,
      "outputs": []
    }
  ]
}